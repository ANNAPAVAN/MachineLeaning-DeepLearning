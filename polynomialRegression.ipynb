{
  "nbformat": 4,
  "nbformat_minor": 0,
  "metadata": {
    "colab": {
      "provenance": [],
      "authorship_tag": "ABX9TyMfEehPRW+3eBrFuIYLW823"
    },
    "kernelspec": {
      "name": "python3",
      "display_name": "Python 3"
    },
    "language_info": {
      "name": "python"
    }
  },
  "cells": [
    {
      "cell_type": "code",
      "execution_count": null,
      "metadata": {
        "id": "KjPJM6XK3zDa"
      },
      "outputs": [],
      "source": [
        "import numpy as np\n",
        "import matplotlib.pyplot as plt"
      ]
    },
    {
      "cell_type": "code",
      "source": [
        "from sklearn.model_selection import train_test_split\n",
        "\n",
        "from sklearn.linear_model import LinearRegression,SGDRegressor\n",
        "\n",
        "from sklearn.preprocessing import PolynomialFeatures,StandardScaler\n",
        "\n",
        "from sklearn.metrics import r2_score\n",
        "\n",
        "from sklearn.pipeline import Pipeline\n"
      ],
      "metadata": {
        "id": "krA94Hkt34uZ"
      },
      "execution_count": null,
      "outputs": []
    },
    {
      "cell_type": "code",
      "source": [
        "x = 6*np.random.rand(200,1) - 3\n",
        "# This is a Python code that generates an array x with 200 rows and 1 column, filled with random numbers between -3 and 3.\n",
        "\n",
        "y= 0.8 * x**2 + 0.9 * x + 2 +np.random.randn(200,1)\n",
        "# +np.random.randn(200,1)------This is a Python code that generates an array with 200 rows and 1 column,\n",
        "#  filled with random numbers generated from a standard normal distribution (mean=0, variance=1).\n",
        "\n",
        "# y=0.8x^2 + 0.9x + 2"
      ],
      "metadata": {
        "id": "TO_g1-YV4a-n"
      },
      "execution_count": null,
      "outputs": []
    },
    {
      "cell_type": "code",
      "source": [
        "x"
      ],
      "metadata": {
        "id": "v1MKsAa_g2FF"
      },
      "execution_count": null,
      "outputs": []
    },
    {
      "cell_type": "code",
      "source": [
        "x.shape"
      ],
      "metadata": {
        "colab": {
          "base_uri": "https://localhost:8080/"
        },
        "id": "sDez7l-ZhCXn",
        "outputId": "63582904-301b-4207-db14-619ef7a20379"
      },
      "execution_count": null,
      "outputs": [
        {
          "output_type": "execute_result",
          "data": {
            "text/plain": [
              "(200, 1)"
            ]
          },
          "metadata": {},
          "execution_count": 6
        }
      ]
    },
    {
      "cell_type": "code",
      "source": [
        "y.shape"
      ],
      "metadata": {
        "colab": {
          "base_uri": "https://localhost:8080/"
        },
        "id": "ThBNSzGBhIDR",
        "outputId": "5676db67-452c-48a4-dcd6-beef0351b8fc"
      },
      "execution_count": null,
      "outputs": [
        {
          "output_type": "execute_result",
          "data": {
            "text/plain": [
              "(200, 1)"
            ]
          },
          "metadata": {},
          "execution_count": 7
        }
      ]
    },
    {
      "cell_type": "code",
      "source": [
        "plt.plot(x,y,\"b.\")\n",
        "plt.xlabel('x')\n",
        "plt.ylabel('y')\n",
        "plt.show()"
      ],
      "metadata": {
        "colab": {
          "base_uri": "https://localhost:8080/",
          "height": 279
        },
        "id": "SbG2z4Wd5IcI",
        "outputId": "925ac03b-6790-4762-b724-03b317cc2d65"
      },
      "execution_count": null,
      "outputs": [
        {
          "output_type": "display_data",
          "data": {
            "text/plain": [
              "<Figure size 432x288 with 1 Axes>"
            ],
            "image/png": "[encoded data removed]"
          },
          "metadata": {
            "needs_background": "light"
          }
        }
      ]
    },
    {
      "cell_type": "code",
      "source": [
        "# train_test_split\n",
        "\n",
        "x_train,x_test,y_train,y_test = train_test_split(x,y,test_size=0.2,random_state=2)\n"
      ],
      "metadata": {
        "id": "uVUdXrsP5O_-"
      },
      "execution_count": null,
      "outputs": []
    },
    {
      "cell_type": "code",
      "source": [
        "# Applying Linear regression\n",
        "lr=LinearRegression()"
      ],
      "metadata": {
        "id": "TH8DMRXZ6Vs2"
      },
      "execution_count": null,
      "outputs": []
    },
    {
      "cell_type": "code",
      "source": [
        "lr.fit(x_train,y_train)"
      ],
      "metadata": {
        "colab": {
          "base_uri": "https://localhost:8080/"
        },
        "id": "1R3YMVY96cFd",
        "outputId": "69b3d2a8-c417-4fd3-cf00-635c297e2142"
      },
      "execution_count": null,
      "outputs": [
        {
          "output_type": "execute_result",
          "data": {
            "text/plain": [
              "LinearRegression()"
            ]
          },
          "metadata": {},
          "execution_count": 11
        }
      ]
    },
    {
      "cell_type": "code",
      "source": [
        "y_pred=lr.predict(x_test)\n"
      ],
      "metadata": {
        "id": "XmkUJc646f5o"
      },
      "execution_count": null,
      "outputs": []
    },
    {
      "cell_type": "code",
      "source": [
        "r2_score(y_test,y_pred)"
      ],
      "metadata": {
        "colab": {
          "base_uri": "https://localhost:8080/"
        },
        "id": "_9Q7ljup6nAg",
        "outputId": "7d4c6a4a-ea94-4330-94e0-33b4edf99800"
      },
      "execution_count": null,
      "outputs": [
        {
          "output_type": "execute_result",
          "data": {
            "text/plain": [
              "0.14678924292639306"
            ]
          },
          "metadata": {},
          "execution_count": 13
        }
      ]
    },
    {
      "cell_type": "code",
      "source": [
        "plt.plot(x_train,lr.predict(x_train),color=\"r\")\n",
        "plt.plot(x,y,\"b.\")\n",
        "plt.xlabel(\"x\")\n",
        "plt.ylabel(\"y\")\n",
        "plt.show()"
      ],
      "metadata": {
        "colab": {
          "base_uri": "https://localhost:8080/",
          "height": 279
        },
        "id": "znc8pKpv6sS6",
        "outputId": "24db145b-c766-41a7-f2a2-e857791f6832"
      },
      "execution_count": null,
      "outputs": [
        {
          "output_type": "display_data",
          "data": {
            "text/plain": [
              "<Figure size 432x288 with 1 Axes>"
            ],
            "image/png": "[encoded data removed]"
          },
          "metadata": {
            "needs_background": "light"
          }
        }
      ]
    },
    {
      "cell_type": "code",
      "source": [
        "# Applying polynomial linear regression\n",
        "# degree 2\n",
        "\n",
        "poly = PolynomialFeatures(degree=2)\n",
        "\n",
        "x_train_trans = poly.fit_transform(x_train)\n",
        "x_test_trans = poly.fit_transform(x_test)"
      ],
      "metadata": {
        "id": "bC3fo2wD699u"
      },
      "execution_count": null,
      "outputs": []
    },
    {
      "cell_type": "code",
      "source": [
        "print(x_train[0])\n",
        "print(x_train_trans[0])"
      ],
      "metadata": {
        "colab": {
          "base_uri": "https://localhost:8080/"
        },
        "id": "T2hhO4667fTL",
        "outputId": "bed8e3c6-2c84-43e2-bcc4-bc03e7a89670"
      },
      "execution_count": null,
      "outputs": [
        {
          "output_type": "stream",
          "name": "stdout",
          "text": [
            "[2.15357535]\n",
            "[1.         2.15357535 4.63788679]\n"
          ]
        }
      ]
    },
    {
      "cell_type": "code",
      "source": [
        "# include bias parameter"
      ],
      "metadata": {
        "id": "oqyixEqs7wRL"
      },
      "execution_count": null,
      "outputs": []
    },
    {
      "cell_type": "code",
      "source": [
        "# poly = PolynomialFeatures(degree=2,include_bias=False) # neglects intercept\n",
        "#                                                         # by default include_bias is True\n",
        "\n",
        "# x_train_trans = poly.fit_transform(x_train)\n",
        "# x_test_trans = poly.fit_transform(x_test)"
      ],
      "metadata": {
        "id": "TN48bhkO8Btg"
      },
      "execution_count": null,
      "outputs": []
    },
    {
      "cell_type": "code",
      "source": [
        "# print(x_train[0])\n",
        "# print(x_train_trans[0])"
      ],
      "metadata": {
        "id": "fOUAZh358OH8"
      },
      "execution_count": null,
      "outputs": []
    },
    {
      "cell_type": "code",
      "source": [
        "lr=LinearRegression()\n",
        "lr.fit(x_train_trans,y_train)"
      ],
      "metadata": {
        "colab": {
          "base_uri": "https://localhost:8080/"
        },
        "id": "YXOH1Li88Rw8",
        "outputId": "1e0f7abf-895c-4823-d2bd-3a481a27bc56"
      },
      "execution_count": null,
      "outputs": [
        {
          "output_type": "execute_result",
          "data": {
            "text/plain": [
              "LinearRegression()"
            ]
          },
          "metadata": {},
          "execution_count": 20
        }
      ]
    },
    {
      "cell_type": "code",
      "source": [
        "y_pred=lr.predict(x_test_trans)"
      ],
      "metadata": {
        "id": "fmzZHhU_8xpF"
      },
      "execution_count": null,
      "outputs": []
    },
    {
      "cell_type": "code",
      "source": [
        "r2_score(y_test,y_pred)"
      ],
      "metadata": {
        "colab": {
          "base_uri": "https://localhost:8080/"
        },
        "id": "QEkQh9wL8_DC",
        "outputId": "eb4e616d-a88f-45a0-e980-eb3534275878"
      },
      "execution_count": null,
      "outputs": [
        {
          "output_type": "execute_result",
          "data": {
            "text/plain": [
              "0.7984024906952212"
            ]
          },
          "metadata": {},
          "execution_count": 22
        }
      ]
    },
    {
      "cell_type": "code",
      "source": [
        "print(lr.coef_)\n",
        "print(lr.intercept_)    # y=0.8x^2 + 0.9x + 2"
      ],
      "metadata": {
        "colab": {
          "base_uri": "https://localhost:8080/"
        },
        "id": "Ek6yIB099E3F",
        "outputId": "c3fbf215-7491-4cd0-c85c-611e63f35b1f"
      },
      "execution_count": null,
      "outputs": [
        {
          "output_type": "stream",
          "name": "stdout",
          "text": [
            "[[0.         0.82127511 0.81886912]]\n",
            "[1.87745061]\n"
          ]
        }
      ]
    },
    {
      "cell_type": "code",
      "source": [
        "x_new = np.linspace(-3,3,200).reshape(200,1)\n",
        "x_new_poly = poly.transform(x_new)\n",
        "y_new = lr.predict(x_new_poly)"
      ],
      "metadata": {
        "id": "pJy5mEmw97f9"
      },
      "execution_count": null,
      "outputs": []
    },
    {
      "cell_type": "code",
      "source": [
        "plt.plot(x_new,y_new,\"r-\",linewidth=2,label=\"Predictions\")\n",
        "plt.plot(x_train, y_train, \"b.\",label=\"Training points\")\n",
        "plt.plot(x_test, y_test,\"y.\",label = \"Testing points\")\n",
        "\n",
        "plt.xlabel(\"x\")\n",
        "plt.ylabel(\"y\")\n",
        "plt.legend()\n",
        "plt.show()"
      ],
      "metadata": {
        "colab": {
          "base_uri": "https://localhost:8080/",
          "height": 279
        },
        "id": "wfAMWXjB9Rc2",
        "outputId": "99fa1279-15a4-42a0-88a6-6d9c9095195e"
      },
      "execution_count": null,
      "outputs": [
        {
          "output_type": "display_data",
          "data": {
            "text/plain": [
              "<Figure size 432x288 with 1 Axes>"
            ],
            "image/png": "[encoded data removed]"
          },
          "metadata": {
            "needs_background": "light"
          }
        }
      ]
    },
    {
      "cell_type": "code",
      "source": [
        "def polynomial_regression(degree):\n",
        "    x_new=np.linspace(-3, 3, 100).reshape(100, 1)\n",
        "    x_new_poly = poly.transform(x_new)\n",
        "\n",
        "    polybig_features = PolynomialFeatures(degree=degree, include_bias=False)\n",
        "    std_scaler = StandardScaler()\n",
        "    lin_reg = LinearRegression()\n",
        "    polynomial_regression = Pipeline([\n",
        "            (\"poly_features\", polybig_features),\n",
        "            (\"std_scaler\", std_scaler),\n",
        "            (\"lin_reg\", lin_reg),\n",
        "        ])\n",
        "    polynomial_regression.fit(x, y)\n",
        "    y_newbig = polynomial_regression.predict(x_new)\n",
        "    plt.plot(x_new, y_newbig,'r', label=\"Degree \" + str(degree), linewidth=2)\n",
        "\n",
        "    plt.plot(x_train, y_train, \"b.\", linewidth=3)\n",
        "    plt.plot(x_test, y_test, \"g.\", linewidth=3)\n",
        "    plt.legend(loc=\"upper left\")\n",
        "    plt.xlabel(\"X\")\n",
        "    plt.ylabel(\"y\")\n",
        "    plt.axis([-3, 3, 0, 10])\n",
        "    plt.show()"
      ],
      "metadata": {
        "id": "y7QoYo_L_COA"
      },
      "execution_count": null,
      "outputs": []
    },
    {
      "cell_type": "code",
      "source": [
        "polynomial_regression(3)"
      ],
      "metadata": {
        "colab": {
          "base_uri": "https://localhost:8080/",
          "height": 283
        },
        "id": "IlYui22VBSmA",
        "outputId": "2cea691f-0462-4f97-fe31-7a22d2316e55"
      },
      "execution_count": null,
      "outputs": [
        {
          "output_type": "display_data",
          "data": {
            "text/plain": [
              "<Figure size 432x288 with 1 Axes>"
            ],
            "image/png": "[encoded data removed]"
          },
          "metadata": {
            "needs_background": "light"
          }
        }
      ]
    },
    {
      "cell_type": "code",
      "source": [
        "polynomial_regression(13)"
      ],
      "metadata": {
        "colab": {
          "base_uri": "https://localhost:8080/",
          "height": 283
        },
        "id": "dZ4r8R-WBYdk",
        "outputId": "8e47eaa9-ecf4-48f2-f057-4459d983b10b"
      },
      "execution_count": null,
      "outputs": [
        {
          "output_type": "display_data",
          "data": {
            "text/plain": [
              "<Figure size 432x288 with 1 Axes>"
            ],
            "image/png": "[encoded data removed]"
          },
          "metadata": {
            "needs_background": "light"
          }
        }
      ]
    },
    {
      "cell_type": "code",
      "source": [
        "polynomial_regression(130)"
      ],
      "metadata": {
        "colab": {
          "base_uri": "https://localhost:8080/",
          "height": 283
        },
        "id": "68cqljwwBfs7",
        "outputId": "cbed9e71-2d13-433f-e34a-88a3d414e0e7"
      },
      "execution_count": null,
      "outputs": [
        {
          "output_type": "display_data",
          "data": {
            "text/plain": [
              "<Figure size 432x288 with 1 Axes>"
            ],
            "image/png": "[encoded data removed]"
          },
          "metadata": {
            "needs_background": "light"
          }
        }
      ]
    },
    {
      "cell_type": "code",
      "source": [
        "poly.powers_  #"
      ],
      "metadata": {
        "colab": {
          "base_uri": "https://localhost:8080/"
        },
        "id": "rceKZLYSBjEd",
        "outputId": "f7f7e7cb-854c-4397-eaf6-fcd836e1aa3e"
      },
      "execution_count": null,
      "outputs": [
        {
          "output_type": "execute_result",
          "data": {
            "text/plain": [
              "array([[0],\n",
              "       [1],\n",
              "       [2]])"
            ]
          },
          "metadata": {},
          "execution_count": 30
        }
      ]
    },
    {
      "cell_type": "code",
      "source": [
        "# Applying Gradient Descent\n",
        "\n",
        "poly = PolynomialFeatures(degree=2)\n",
        "\n",
        "x_train_trans = poly.fit_transform(x_train)\n",
        "x_test_trans = poly.transform(x_test)\n",
        "\n",
        "sgd = SGDRegressor(max_iter=100)\n",
        "sgd.fit(x_train_trans,y_train)\n",
        "\n",
        "x_new=np.linspace(-2.9, 2.8, 200).reshape(200, 1)\n",
        "x_new_poly = poly.transform(x_new)\n",
        "y_new = sgd.predict(x_new_poly)\n",
        "\n",
        "y_pred = sgd.predict(x_test_trans)\n",
        "\n",
        "plt.plot(x_new, y_new, \"r-\", linewidth=2, label=\"Predictions \" + str(round(r2_score(y_test,y_pred),2)))\n",
        "plt.plot(x_train, y_train, \"b.\",label='Training points')\n",
        "plt.plot(x_test, y_test, \"g.\",label='Testing points')\n",
        "plt.xlabel(\"X\")\n",
        "plt.ylabel(\"y\")\n",
        "plt.legend()\n",
        "plt.show()"
      ],
      "metadata": {
        "colab": {
          "base_uri": "https://localhost:8080/",
          "height": 334
        },
        "id": "asQqxcVTDKuA",
        "outputId": "35309b69-d76c-44e6-feab-9c722aea33dc"
      },
      "execution_count": null,
      "outputs": [
        {
          "output_type": "stream",
          "name": "stderr",
          "text": [
            "/usr/local/lib/python3.8/dist-packages/sklearn/utils/validation.py:993: DataConversionWarning: A column-vector y was passed when a 1d array was expected. Please change the shape of y to (n_samples, ), for example using ravel().\n",
            "  y = column_or_1d(y, warn=True)\n"
          ]
        },
        {
          "output_type": "display_data",
          "data": {
            "text/plain": [
              "<Figure size 432x288 with 1 Axes>"
            ],
            "image/png": "[encoded data removed]"
          },
          "metadata": {
            "needs_background": "light"
          }
        }
      ]
    },
    {
      "cell_type": "code",
      "source": [
        "# 3D polynomial regression\n",
        "x = 7 * np.random.rand(100, 1) - 2.8\n",
        "y = 7 * np.random.rand(100, 1) - 2.8\n",
        "\n",
        "z = x**2 + y**2 + 0.2*x + 0.2*y + 0.1*x*y +2 + np.random.randn(100, 1)\n",
        "# z = x^2 + y^2 + 0.2x + 0.2y + 0.1xy + 2"
      ],
      "metadata": {
        "id": "deIfAdIGCLTA"
      },
      "execution_count": null,
      "outputs": []
    },
    {
      "cell_type": "code",
      "source": [
        "import plotly.express as px\n",
        "df = px.data.iris()\n",
        "fig = px.scatter_3d(df, x=x.ravel(), y=y.ravel(), z=z.ravel())\n",
        "fig.show()"
      ],
      "metadata": {
        "colab": {
          "base_uri": "https://localhost:8080/",
          "height": 542
        },
        "id": "-4jr2KOYCqap",
        "outputId": "994308da-e977-4fb0-cd62-d67e59f3aa0d"
      },
      "execution_count": null,
      "outputs": [
        {
          "output_type": "display_data",
          "data": {
            "text/html": [
              "<html>\n",
              "<head><meta charset=\"utf-8\" /></head>\n",
              "<body>\n",
              "    <div>            <script src=\"https://cdnjs.cloudflare.com/ajax/libs/mathjax/2.7.5/MathJax.js?config=TeX-AMS-MML_SVG\"></script><script type=\"text/javascript\">if (window.MathJax) {MathJax.Hub.Config({SVG: {font: \"STIX-Web\"}});}</script>                <script type=\"text/javascript\">window.PlotlyConfig = {MathJaxConfig: 'local'};</script>\n",
              "        <script src=\"https://cdn.plot.ly/plotly-2.8.3.min.js\"></script>                <div id=\"dd45ec85-33ac-499e-b38c-0df626355504\" class=\"plotly-graph-div\" style=\"height:525px; width:100%;\"></div>            <script type=\"text/javascript\">                                    window.PLOTLYENV=window.PLOTLYENV || {};                                    if (document.getElementById(\"dd45ec85-33ac-499e-b38c-0df626355504\")) {                    Plotly.newPlot(                        \"dd45ec85-33ac-499e-b38c-0df626355504\",                        [{\"hovertemplate\":\"x=%{x}<br>y=%{y}<br>z=%{z}<extra></extra>\",\"legendgroup\":\"\",\"marker\":{\"color\":\"#636efa\",\"symbol\":\"circle\"},\"mode\":\"markers\",\"name\":\"\",\"scene\":\"scene\",\"showlegend\":false,\"x\":[2.8642389110269413,2.1063660565702875,2.5229360735325033,0.2709642064825588,3.3642446462261386,3.9971150863800364,3.5646067066286697,4.163316835058254,0.3468450693795715,2.5088161318082465,-2.787075800905861,2.2070121854765423,3.0113338397680636,-1.0374235697657124,0.8593429467212625,-2.329017705317295,0.5116467655171992,-1.2983319907898183,0.8694350975816558,3.8536401497117705,2.546665590214862,3.8452493292233143,3.0336578309741524,-2.1603702695516334,3.250071628631245,3.1863913305151863,-2.4540371161012775,3.721800833615993,-1.3708746839511683,3.087128129652979,3.6659311476235246,0.15046145929806487,0.16961781032464085,-0.7704406383778095,-1.8480294523746643,2.1563161611799107,3.8939666040734124,-2.3784749615173313,-1.4763036966976615,2.367468356562619,1.7102937732768666,3.8070328365680357,2.411196924973215,-2.292275013681418,1.849536959785758,2.9741599108234347,3.203170216512861,0.8501594285138965,-0.3323592928851231,2.6135633792758073,-0.4823919383530826,2.3637384323318127,3.2359783647767424,2.539908031920338,0.40512036149094177,1.5508185824807814,1.5997793931854227,3.58915351026293,2.0152598602662666,-2.287294304514827,-1.6471152296677567,1.6010089553098785,0.6602230783744059,3.51560737704121,1.1229998174002502,0.08043808394517704,-1.36211659018704,4.141620605570568,-2.23652754530405,2.1298376539084174,-0.07601935399494586,-2.516276090834979,-1.194440803957364,2.2085991338446957,2.1011423135408123,1.4145863686419338,4.011371415407832,-0.887946595637275,3.7700241764070945,-2.0930300824654973,-1.0060456493790655,-1.5069685850894352,-2.2120724718660414,-0.04055472019011619,-0.680206786256548,-1.016109853623615,3.8876488933658164,0.7027257199891737,-0.39646607000607625,2.6759380709586633,4.151679938979883,-2.707422991970452,-0.20773240813381433,2.911381911349478,2.894994436628246,-1.2156235191738531,-2.1894872009518838,0.9276832132132324,-2.5645567913897325,-2.0948812736545763],\"y\":[-0.18494790061779431,3.151271158335229,-1.511980497725026,2.372506420994161,-0.07473146476558057,3.217158768389454,-2.0875228286454948,3.1224237742553873,0.7650015442703686,1.9971713811506353,0.8468245985322058,-2.322467815332276,-2.7980013545461806,-0.5272199957925046,4.197697678944491,0.05174925941887265,1.7972360921007162,4.14957167807308,-1.2084974880485233,3.3385632943718857,2.4638005727418557,-1.0752956423287485,-1.5589339565690132,-0.2931956591544944,-0.8941832236060099,2.284700066701822,-0.8088037668850494,1.4845065881771227,-1.1857413681983133,1.9005277298346401,2.821451912616623,-2.4805173390192667,-1.4918419836065229,-0.488185691841561,3.4463279863645218,-1.9931947115930162,-2.0708443880530787,0.23998367858322922,1.030802219342836,0.19664364699357728,1.5814049976519984,-0.47211479439380977,1.4273537991235585,-0.05939805496261874,1.9836426515438808,3.8932084866129744,3.7954441832645758,3.707987301334385,-0.5183663844598971,0.6207670471299798,1.6033658937818789,4.158897980249509,1.9618272680664983,-2.2263055839603667,2.9792997985945933,-1.1667022927039186,0.2985230884025514,-1.8238772484094583,3.6743607914266114,-2.6057892606595723,3.48017973618341,-2.656901795852219,2.6800156277080243,-1.8805651657715505,-0.23540028520796374,-1.7532887288149368,-0.7835140284533577,1.6033767692524927,3.1569365877045366,-1.3029733945235438,0.41323662188938837,1.4013919507698906,3.974680767624357,-0.7719518140118806,-1.6308667407378528,-0.5045134597043583,-2.090123316211836,1.2466031924087222,-2.2420440366882692,-0.9759958166149096,-1.3635867771439436,-1.06559408076612,2.853708639211087,3.3519114470421343,2.158360667954142,1.1525718340007645,0.34719073206668893,2.2195851599660052,-0.8040577939374547,-1.3889119082574903,-1.7305878941680006,-2.312232328391464,0.9593226875864853,3.681345232531153,-0.07855404553857559,-2.5756831253326276,1.4557530365451887,-2.1327977173605808,1.2351598490558677,-2.7283536269962996],\"z\":[11.095252509076614,17.094960818202622,9.805485407945804,7.29361813129748,12.954459626730321,31.19645461181512,18.04708398174683,30.689604937830993,4.062807227164668,14.706422795220748,8.621943606638792,11.408327955357535,19.533280463392643,3.722960977790778,19.806236247527238,5.701002840340249,5.905784076043977,22.36407886553863,2.9434752036971177,31.907433451220605,16.823184318267053,18.017838753041392,12.445846598359134,8.639666008992956,13.782636934879687,19.01058972171898,8.506810543975284,20.074152592737786,6.93107287452507,18.55901705055863,25.42314997254973,6.1117750095972205,1.4586769818415153,3.220077214530963,16.579136274559957,9.540600355131527,19.307325025251025,6.322856181421442,5.254218778025404,7.525913855038565,7.388132130320558,16.965740136073617,10.706926108894189,6.8433435687168105,8.925256029471976,30.181089736878445,29.44937421465514,17.94364822093525,3.7558046894911534,10.090246977858813,5.18077191755381,27.383365692596513,17.94594820085004,14.42172607061594,12.183661328982966,5.791420905158939,5.362832357304488,19.159903206676095,20.601667938413826,13.369511480205949,16.445425259062656,8.593669592215132,9.959322196724065,14.982999449561895,5.5311357182501375,5.098355952523895,3.816992990470239,24.077929923705437,14.810314580862839,7.730451331106716,1.789027372659902,9.560974173219972,19.281351616051953,7.8738319004986295,9.674437992009597,4.823727357847803,21.427606324428677,4.258293707058077,21.79892525801498,8.242865338672921,3.0632750755208793,6.8014995970605785,14.753577352051177,15.21854369809855,7.48646731211982,3.038521607401977,18.966646893497465,8.467783539139939,2.084149005583694,11.998266196496715,21.572575846300104,14.064532054806426,2.6837986306233295,26.103671123504053,9.459283113647725,11.155412591327057,8.412710754093734,6.94321452233432,8.793875614430608,12.844018925519752],\"type\":\"scatter3d\"}],                        {\"template\":{\"data\":{\"bar\":[{\"error_x\":{\"color\":\"#2a3f5f\"},\"error_y\":{\"color\":\"#2a3f5f\"},\"marker\":{\"line\":{\"color\":\"#E5ECF6\",\"width\":0.5},\"pattern\":{\"fillmode\":\"overlay\",\"size\":10,\"solidity\":0.2}},\"type\":\"bar\"}],\"barpolar\":[{\"marker\":{\"line\":{\"color\":\"#E5ECF6\",\"width\":0.5},\"pattern\":{\"fillmode\":\"overlay\",\"size\":10,\"solidity\":0.2}},\"type\":\"barpolar\"}],\"carpet\":[{\"aaxis\":{\"endlinecolor\":\"#2a3f5f\",\"gridcolor\":\"white\",\"linecolor\":\"white\",\"minorgridcolor\":\"white\",\"startlinecolor\":\"#2a3f5f\"},\"baxis\":{\"endlinecolor\":\"#2a3f5f\",\"gridcolor\":\"white\",\"linecolor\":\"white\",\"minorgridcolor\":\"white\",\"startlinecolor\":\"#2a3f5f\"},\"type\":\"carpet\"}],\"choropleth\":[{\"colorbar\":{\"outlinewidth\":0,\"ticks\":\"\"},\"type\":\"choropleth\"}],\"contour\":[{\"colorbar\":{\"outlinewidth\":0,\"ticks\":\"\"},\"colorscale\":[[0.0,\"#0d0887\"],[0.1111111111111111,\"#46039f\"],[0.2222222222222222,\"#7201a8\"],[0.3333333333333333,\"#9c179e\"],[0.4444444444444444,\"#bd3786\"],[0.5555555555555556,\"#d8576b\"],[0.6666666666666666,\"#ed7953\"],[0.7777777777777778,\"#fb9f3a\"],[0.8888888888888888,\"#fdca26\"],[1.0,\"#f0f921\"]],\"type\":\"contour\"}],\"contourcarpet\":[{\"colorbar\":{\"outlinewidth\":0,\"ticks\":\"\"},\"type\":\"contourcarpet\"}],\"heatmap\":[{\"colorbar\":{\"outlinewidth\":0,\"ticks\":\"\"},\"colorscale\":[[0.0,\"#0d0887\"],[0.1111111111111111,\"#46039f\"],[0.2222222222222222,\"#7201a8\"],[0.3333333333333333,\"#9c179e\"],[0.4444444444444444,\"#bd3786\"],[0.5555555555555556,\"#d8576b\"],[0.6666666666666666,\"#ed7953\"],[0.7777777777777778,\"#fb9f3a\"],[0.8888888888888888,\"#fdca26\"],[1.0,\"#f0f921\"]],\"type\":\"heatmap\"}],\"heatmapgl\":[{\"colorbar\":{\"outlinewidth\":0,\"ticks\":\"\"},\"colorscale\":[[0.0,\"#0d0887\"],[0.1111111111111111,\"#46039f\"],[0.2222222222222222,\"#7201a8\"],[0.3333333333333333,\"#9c179e\"],[0.4444444444444444,\"#bd3786\"],[0.5555555555555556,\"#d8576b\"],[0.6666666666666666,\"#ed7953\"],[0.7777777777777778,\"#fb9f3a\"],[0.8888888888888888,\"#fdca26\"],[1.0,\"#f0f921\"]],\"type\":\"heatmapgl\"}],\"histogram\":[{\"marker\":{\"pattern\":{\"fillmode\":\"overlay\",\"size\":10,\"solidity\":0.2}},\"type\":\"histogram\"}],\"histogram2d\":[{\"colorbar\":{\"outlinewidth\":0,\"ticks\":\"\"},\"colorscale\":[[0.0,\"#0d0887\"],[0.1111111111111111,\"#46039f\"],[0.2222222222222222,\"#7201a8\"],[0.3333333333333333,\"#9c179e\"],[0.4444444444444444,\"#bd3786\"],[0.5555555555555556,\"#d8576b\"],[0.6666666666666666,\"#ed7953\"],[0.7777777777777778,\"#fb9f3a\"],[0.8888888888888888,\"#fdca26\"],[1.0,\"#f0f921\"]],\"type\":\"histogram2d\"}],\"histogram2dcontour\":[{\"colorbar\":{\"outlinewidth\":0,\"ticks\":\"\"},\"colorscale\":[[0.0,\"#0d0887\"],[0.1111111111111111,\"#46039f\"],[0.2222222222222222,\"#7201a8\"],[0.3333333333333333,\"#9c179e\"],[0.4444444444444444,\"#bd3786\"],[0.5555555555555556,\"#d8576b\"],[0.6666666666666666,\"#ed7953\"],[0.7777777777777778,\"#fb9f3a\"],[0.8888888888888888,\"#fdca26\"],[1.0,\"#f0f921\"]],\"type\":\"histogram2dcontour\"}],\"mesh3d\":[{\"colorbar\":{\"outlinewidth\":0,\"ticks\":\"\"},\"type\":\"mesh3d\"}],\"parcoords\":[{\"line\":{\"colorbar\":{\"outlinewidth\":0,\"ticks\":\"\"}},\"type\":\"parcoords\"}],\"pie\":[{\"automargin\":true,\"type\":\"pie\"}],\"scatter\":[{\"marker\":{\"colorbar\":{\"outlinewidth\":0,\"ticks\":\"\"}},\"type\":\"scatter\"}],\"scatter3d\":[{\"line\":{\"colorbar\":{\"outlinewidth\":0,\"ticks\":\"\"}},\"marker\":{\"colorbar\":{\"outlinewidth\":0,\"ticks\":\"\"}},\"type\":\"scatter3d\"}],\"scattercarpet\":[{\"marker\":{\"colorbar\":{\"outlinewidth\":0,\"ticks\":\"\"}},\"type\":\"scattercarpet\"}],\"scattergeo\":[{\"marker\":{\"colorbar\":{\"outlinewidth\":0,\"ticks\":\"\"}},\"type\":\"scattergeo\"}],\"scattergl\":[{\"marker\":{\"colorbar\":{\"outlinewidth\":0,\"ticks\":\"\"}},\"type\":\"scattergl\"}],\"scattermapbox\":[{\"marker\":{\"colorbar\":{\"outlinewidth\":0,\"ticks\":\"\"}},\"type\":\"scattermapbox\"}],\"scatterpolar\":[{\"marker\":{\"colorbar\":{\"outlinewidth\":0,\"ticks\":\"\"}},\"type\":\"scatterpolar\"}],\"scatterpolargl\":[{\"marker\":{\"colorbar\":{\"outlinewidth\":0,\"ticks\":\"\"}},\"type\":\"scatterpolargl\"}],\"scatterternary\":[{\"marker\":{\"colorbar\":{\"outlinewidth\":0,\"ticks\":\"\"}},\"type\":\"scatterternary\"}],\"surface\":[{\"colorbar\":{\"outlinewidth\":0,\"ticks\":\"\"},\"colorscale\":[[0.0,\"#0d0887\"],[0.1111111111111111,\"#46039f\"],[0.2222222222222222,\"#7201a8\"],[0.3333333333333333,\"#9c179e\"],[0.4444444444444444,\"#bd3786\"],[0.5555555555555556,\"#d8576b\"],[0.6666666666666666,\"#ed7953\"],[0.7777777777777778,\"#fb9f3a\"],[0.8888888888888888,\"#fdca26\"],[1.0,\"#f0f921\"]],\"type\":\"surface\"}],\"table\":[{\"cells\":{\"fill\":{\"color\":\"#EBF0F8\"},\"line\":{\"color\":\"white\"}},\"header\":{\"fill\":{\"color\":\"#C8D4E3\"},\"line\":{\"color\":\"white\"}},\"type\":\"table\"}]},\"layout\":{\"annotationdefaults\":{\"arrowcolor\":\"#2a3f5f\",\"arrowhead\":0,\"arrowwidth\":1},\"autotypenumbers\":\"strict\",\"coloraxis\":{\"colorbar\":{\"outlinewidth\":0,\"ticks\":\"\"}},\"colorscale\":{\"diverging\":[[0,\"#8e0152\"],[0.1,\"#c51b7d\"],[0.2,\"#de77ae\"],[0.3,\"#f1b6da\"],[0.4,\"#fde0ef\"],[0.5,\"#f7f7f7\"],[0.6,\"#e6f5d0\"],[0.7,\"#b8e186\"],[0.8,\"#7fbc41\"],[0.9,\"#4d9221\"],[1,\"#276419\"]],\"sequential\":[[0.0,\"#0d0887\"],[0.1111111111111111,\"#46039f\"],[0.2222222222222222,\"#7201a8\"],[0.3333333333333333,\"#9c179e\"],[0.4444444444444444,\"#bd3786\"],[0.5555555555555556,\"#d8576b\"],[0.6666666666666666,\"#ed7953\"],[0.7777777777777778,\"#fb9f3a\"],[0.8888888888888888,\"#fdca26\"],[1.0,\"#f0f921\"]],\"sequentialminus\":[[0.0,\"#0d0887\"],[0.1111111111111111,\"#46039f\"],[0.2222222222222222,\"#7201a8\"],[0.3333333333333333,\"#9c179e\"],[0.4444444444444444,\"#bd3786\"],[0.5555555555555556,\"#d8576b\"],[0.6666666666666666,\"#ed7953\"],[0.7777777777777778,\"#fb9f3a\"],[0.8888888888888888,\"#fdca26\"],[1.0,\"#f0f921\"]]},\"colorway\":[\"#636efa\",\"#EF553B\",\"#00cc96\",\"#ab63fa\",\"#FFA15A\",\"#19d3f3\",\"#FF6692\",\"#B6E880\",\"#FF97FF\",\"#FECB52\"],\"font\":{\"color\":\"#2a3f5f\"},\"geo\":{\"bgcolor\":\"white\",\"lakecolor\":\"white\",\"landcolor\":\"#E5ECF6\",\"showlakes\":true,\"showland\":true,\"subunitcolor\":\"white\"},\"hoverlabel\":{\"align\":\"left\"},\"hovermode\":\"closest\",\"mapbox\":{\"style\":\"light\"},\"paper_bgcolor\":\"white\",\"plot_bgcolor\":\"#E5ECF6\",\"polar\":{\"angularaxis\":{\"gridcolor\":\"white\",\"linecolor\":\"white\",\"ticks\":\"\"},\"bgcolor\":\"#E5ECF6\",\"radialaxis\":{\"gridcolor\":\"white\",\"linecolor\":\"white\",\"ticks\":\"\"}},\"scene\":{\"xaxis\":{\"backgroundcolor\":\"#E5ECF6\",\"gridcolor\":\"white\",\"gridwidth\":2,\"linecolor\":\"white\",\"showbackground\":true,\"ticks\":\"\",\"zerolinecolor\":\"white\"},\"yaxis\":{\"backgroundcolor\":\"#E5ECF6\",\"gridcolor\":\"white\",\"gridwidth\":2,\"linecolor\":\"white\",\"showbackground\":true,\"ticks\":\"\",\"zerolinecolor\":\"white\"},\"zaxis\":{\"backgroundcolor\":\"#E5ECF6\",\"gridcolor\":\"white\",\"gridwidth\":2,\"linecolor\":\"white\",\"showbackground\":true,\"ticks\":\"\",\"zerolinecolor\":\"white\"}},\"shapedefaults\":{\"line\":{\"color\":\"#2a3f5f\"}},\"ternary\":{\"aaxis\":{\"gridcolor\":\"white\",\"linecolor\":\"white\",\"ticks\":\"\"},\"baxis\":{\"gridcolor\":\"white\",\"linecolor\":\"white\",\"ticks\":\"\"},\"bgcolor\":\"#E5ECF6\",\"caxis\":{\"gridcolor\":\"white\",\"linecolor\":\"white\",\"ticks\":\"\"}},\"title\":{\"x\":0.05},\"xaxis\":{\"automargin\":true,\"gridcolor\":\"white\",\"linecolor\":\"white\",\"ticks\":\"\",\"title\":{\"standoff\":15},\"zerolinecolor\":\"white\",\"zerolinewidth\":2},\"yaxis\":{\"automargin\":true,\"gridcolor\":\"white\",\"linecolor\":\"white\",\"ticks\":\"\",\"title\":{\"standoff\":15},\"zerolinecolor\":\"white\",\"zerolinewidth\":2}}},\"scene\":{\"domain\":{\"x\":[0.0,1.0],\"y\":[0.0,1.0]},\"xaxis\":{\"title\":{\"text\":\"x\"}},\"yaxis\":{\"title\":{\"text\":\"y\"}},\"zaxis\":{\"title\":{\"text\":\"z\"}}},\"legend\":{\"tracegroupgap\":0},\"margin\":{\"t\":60}},                        {\"responsive\": true}                    ).then(function(){\n",
              "                            \n",
              "var gd = document.getElementById('dd45ec85-33ac-499e-b38c-0df626355504');\n",
              "var x = new MutationObserver(function (mutations, observer) {{\n",
              "        var display = window.getComputedStyle(gd).display;\n",
              "        if (!display || display === 'none') {{\n",
              "            console.log([gd, 'removed!']);\n",
              "            Plotly.purge(gd);\n",
              "            observer.disconnect();\n",
              "        }}\n",
              "}});\n",
              "\n",
              "// Listen for the removal of the full notebook cells\n",
              "var notebookContainer = gd.closest('#notebook-container');\n",
              "if (notebookContainer) {{\n",
              "    x.observe(notebookContainer, {childList: true});\n",
              "}}\n",
              "\n",
              "// Listen for the clearing of the current output cell\n",
              "var outputEl = gd.closest('.output');\n",
              "if (outputEl) {{\n",
              "    x.observe(outputEl, {childList: true});\n",
              "}}\n",
              "\n",
              "                        })                };                            </script>        </div>\n",
              "</body>\n",
              "</html>"
            ]
          },
          "metadata": {}
        }
      ]
    },
    {
      "cell_type": "code",
      "source": [
        "# ***************************************************************************************\n",
        "lr = LinearRegression()\n",
        "lr.fit(np.array([x,y]).reshape(100,2),z)\n",
        "\n",
        "x_input = np.linspace(x.min(), x.max(), 10)\n",
        "y_input = np.linspace(y.min(), y.max(), 10)\n",
        "xGrid, yGrid = np.meshgrid(x_input,y_input)\n",
        "\n",
        "final = np.vstack((xGrid.ravel().reshape(1,100),yGrid.ravel().reshape(1,100))).T\n",
        "\n",
        "z_final = lr.predict(final).reshape(10,10)\n"
      ],
      "metadata": {
        "id": "h8mHm52hCr6F"
      },
      "execution_count": null,
      "outputs": []
    },
    {
      "cell_type": "code",
      "source": [
        "import plotly.graph_objects as go\n",
        "\n",
        "fig = px.scatter_3d(df, x=x.ravel(), y=y.ravel(), z=z.ravel())\n",
        "\n",
        "fig.add_trace(go.Surface(x = x_input, y = y_input, z =z_final ))\n",
        "\n",
        "fig.show()"
      ],
      "metadata": {
        "colab": {
          "base_uri": "https://localhost:8080/",
          "height": 542
        },
        "id": "-IPB9_OjDiBs",
        "outputId": "f8121139-4df4-4620-a31a-ab27945c440d"
      },
      "execution_count": null,
      "outputs": [
        {
          "output_type": "display_data",
          "data": {
            "text/html": [
              "<html>\n",
              "<head><meta charset=\"utf-8\" /></head>\n",
              "<body>\n",
              "    <div>            <script src=\"https://cdnjs.cloudflare.com/ajax/libs/mathjax/2.7.5/MathJax.js?config=TeX-AMS-MML_SVG\"></script><script type=\"text/javascript\">if (window.MathJax) {MathJax.Hub.Config({SVG: {font: \"STIX-Web\"}});}</script>                <script type=\"text/javascript\">window.PlotlyConfig = {MathJaxConfig: 'local'};</script>\n",
              "        <script src=\"https://cdn.plot.ly/plotly-2.8.3.min.js\"></script>                <div id=\"0166d353-2ea3-4ffc-b535-52ab8e8dbab8\" class=\"plotly-graph-div\" style=\"height:525px; width:100%;\"></div>            <script type=\"text/javascript\">                                    window.PLOTLYENV=window.PLOTLYENV || {};                                    if (document.getElementById(\"0166d353-2ea3-4ffc-b535-52ab8e8dbab8\")) {                    Plotly.newPlot(                        \"0166d353-2ea3-4ffc-b535-52ab8e8dbab8\",                        [{\"hovertemplate\":\"x=%{x}<br>y=%{y}<br>z=%{z}<extra></extra>\",\"legendgroup\":\"\",\"marker\":{\"color\":\"#636efa\",\"symbol\":\"circle\"},\"mode\":\"markers\",\"name\":\"\",\"scene\":\"scene\",\"showlegend\":false,\"x\":[2.8642389110269413,2.1063660565702875,2.5229360735325033,0.2709642064825588,3.3642446462261386,3.9971150863800364,3.5646067066286697,4.163316835058254,0.3468450693795715,2.5088161318082465,-2.787075800905861,2.2070121854765423,3.0113338397680636,-1.0374235697657124,0.8593429467212625,-2.329017705317295,0.5116467655171992,-1.2983319907898183,0.8694350975816558,3.8536401497117705,2.546665590214862,3.8452493292233143,3.0336578309741524,-2.1603702695516334,3.250071628631245,3.1863913305151863,-2.4540371161012775,3.721800833615993,-1.3708746839511683,3.087128129652979,3.6659311476235246,0.15046145929806487,0.16961781032464085,-0.7704406383778095,-1.8480294523746643,2.1563161611799107,3.8939666040734124,-2.3784749615173313,-1.4763036966976615,2.367468356562619,1.7102937732768666,3.8070328365680357,2.411196924973215,-2.292275013681418,1.849536959785758,2.9741599108234347,3.203170216512861,0.8501594285138965,-0.3323592928851231,2.6135633792758073,-0.4823919383530826,2.3637384323318127,3.2359783647767424,2.539908031920338,0.40512036149094177,1.5508185824807814,1.5997793931854227,3.58915351026293,2.0152598602662666,-2.287294304514827,-1.6471152296677567,1.6010089553098785,0.6602230783744059,3.51560737704121,1.1229998174002502,0.08043808394517704,-1.36211659018704,4.141620605570568,-2.23652754530405,2.1298376539084174,-0.07601935399494586,-2.516276090834979,-1.194440803957364,2.2085991338446957,2.1011423135408123,1.4145863686419338,4.011371415407832,-0.887946595637275,3.7700241764070945,-2.0930300824654973,-1.0060456493790655,-1.5069685850894352,-2.2120724718660414,-0.04055472019011619,-0.680206786256548,-1.016109853623615,3.8876488933658164,0.7027257199891737,-0.39646607000607625,2.6759380709586633,4.151679938979883,-2.707422991970452,-0.20773240813381433,2.911381911349478,2.894994436628246,-1.2156235191738531,-2.1894872009518838,0.9276832132132324,-2.5645567913897325,-2.0948812736545763],\"y\":[-0.18494790061779431,3.151271158335229,-1.511980497725026,2.372506420994161,-0.07473146476558057,3.217158768389454,-2.0875228286454948,3.1224237742553873,0.7650015442703686,1.9971713811506353,0.8468245985322058,-2.322467815332276,-2.7980013545461806,-0.5272199957925046,4.197697678944491,0.05174925941887265,1.7972360921007162,4.14957167807308,-1.2084974880485233,3.3385632943718857,2.4638005727418557,-1.0752956423287485,-1.5589339565690132,-0.2931956591544944,-0.8941832236060099,2.284700066701822,-0.8088037668850494,1.4845065881771227,-1.1857413681983133,1.9005277298346401,2.821451912616623,-2.4805173390192667,-1.4918419836065229,-0.488185691841561,3.4463279863645218,-1.9931947115930162,-2.0708443880530787,0.23998367858322922,1.030802219342836,0.19664364699357728,1.5814049976519984,-0.47211479439380977,1.4273537991235585,-0.05939805496261874,1.9836426515438808,3.8932084866129744,3.7954441832645758,3.707987301334385,-0.5183663844598971,0.6207670471299798,1.6033658937818789,4.158897980249509,1.9618272680664983,-2.2263055839603667,2.9792997985945933,-1.1667022927039186,0.2985230884025514,-1.8238772484094583,3.6743607914266114,-2.6057892606595723,3.48017973618341,-2.656901795852219,2.6800156277080243,-1.8805651657715505,-0.23540028520796374,-1.7532887288149368,-0.7835140284533577,1.6033767692524927,3.1569365877045366,-1.3029733945235438,0.41323662188938837,1.4013919507698906,3.974680767624357,-0.7719518140118806,-1.6308667407378528,-0.5045134597043583,-2.090123316211836,1.2466031924087222,-2.2420440366882692,-0.9759958166149096,-1.3635867771439436,-1.06559408076612,2.853708639211087,3.3519114470421343,2.158360667954142,1.1525718340007645,0.34719073206668893,2.2195851599660052,-0.8040577939374547,-1.3889119082574903,-1.7305878941680006,-2.312232328391464,0.9593226875864853,3.681345232531153,-0.07855404553857559,-2.5756831253326276,1.4557530365451887,-2.1327977173605808,1.2351598490558677,-2.7283536269962996],\"z\":[11.095252509076614,17.094960818202622,9.805485407945804,7.29361813129748,12.954459626730321,31.19645461181512,18.04708398174683,30.689604937830993,4.062807227164668,14.706422795220748,8.621943606638792,11.408327955357535,19.533280463392643,3.722960977790778,19.806236247527238,5.701002840340249,5.905784076043977,22.36407886553863,2.9434752036971177,31.907433451220605,16.823184318267053,18.017838753041392,12.445846598359134,8.639666008992956,13.782636934879687,19.01058972171898,8.506810543975284,20.074152592737786,6.93107287452507,18.55901705055863,25.42314997254973,6.1117750095972205,1.4586769818415153,3.220077214530963,16.579136274559957,9.540600355131527,19.307325025251025,6.322856181421442,5.254218778025404,7.525913855038565,7.388132130320558,16.965740136073617,10.706926108894189,6.8433435687168105,8.925256029471976,30.181089736878445,29.44937421465514,17.94364822093525,3.7558046894911534,10.090246977858813,5.18077191755381,27.383365692596513,17.94594820085004,14.42172607061594,12.183661328982966,5.791420905158939,5.362832357304488,19.159903206676095,20.601667938413826,13.369511480205949,16.445425259062656,8.593669592215132,9.959322196724065,14.982999449561895,5.5311357182501375,5.098355952523895,3.816992990470239,24.077929923705437,14.810314580862839,7.730451331106716,1.789027372659902,9.560974173219972,19.281351616051953,7.8738319004986295,9.674437992009597,4.823727357847803,21.427606324428677,4.258293707058077,21.79892525801498,8.242865338672921,3.0632750755208793,6.8014995970605785,14.753577352051177,15.21854369809855,7.48646731211982,3.038521607401977,18.966646893497465,8.467783539139939,2.084149005583694,11.998266196496715,21.572575846300104,14.064532054806426,2.6837986306233295,26.103671123504053,9.459283113647725,11.155412591327057,8.412710754093734,6.94321452233432,8.793875614430608,12.844018925519752],\"type\":\"scatter3d\"},{\"x\":[-2.787075800905861,-2.014809952465404,-1.2425441040249467,-0.47027825558448955,0.30198759285596743,1.0742534412964244,1.8465192897368818,2.6187851381773384,3.391050986617796,4.163316835058254],\"y\":[-2.7980013545461806,-2.020701461936106,-1.2434015693260314,-0.4661016767159567,0.3111982158941178,1.0884981085041923,1.8657980011142672,2.6430978937243412,3.420397786334416,4.197697678944491],\"z\":[[13.162854949506826,12.873915947564653,12.584976945622481,12.296037943680307,12.007098941738134,11.718159939795962,11.429220937853788,11.140281935911617,10.851342933969443,10.56240393202727],[13.313872540639382,13.024933538697208,12.735994536755037,12.447055534812863,12.15811653287069,11.869177530928518,11.580238528986344,11.29129952704417,11.002360525101999,10.713421523159825],[13.464890131771938,13.175951129829764,12.887012127887592,12.598073125945419,12.309134124003245,12.020195122061073,11.7312561201189,11.442317118176726,11.153378116234553,10.86443911429238],[13.615907722904494,13.32696872096232,13.038029719020148,12.749090717077975,12.460151715135801,12.17121271319363,11.882273711251456,11.593334709309282,11.30439570736711,11.015456705424937],[13.76692531403705,13.477986312094876,13.189047310152702,12.90010830821053,12.611169306268357,12.322230304326183,12.033291302384011,11.744352300441838,11.455413298499664,11.166474296557492],[13.917942905169605,13.629003903227431,13.340064901285258,13.051125899343086,12.762186897400912,12.473247895458739,12.184308893516567,11.895369891574394,11.60643088963222,11.317491887690046],[14.06896049630216,13.780021494359987,13.491082492417814,13.202143490475642,12.913204488533468,12.624265486591295,12.335326484649123,12.04638748270695,11.757448480764776,11.468509478822602],[14.219978087434715,13.931039085492543,13.64210008355037,13.353161081608196,13.064222079666024,12.77528307772385,12.486344075781677,12.197405073839505,11.908466071897331,11.619527069955158],[14.370995678567272,14.082056676625099,13.793117674682925,13.504178672740752,13.21523967079858,12.926300668856406,12.637361666914233,12.34842266497206,12.059483663029887,11.770544661087714],[14.522013269699826,14.233074267757654,13.944135265815481,13.655196263873307,13.366257261931136,13.077318259988962,12.788379258046788,12.499440256104617,12.210501254162443,11.92156225222027]],\"type\":\"surface\"}],                        {\"template\":{\"data\":{\"bar\":[{\"error_x\":{\"color\":\"#2a3f5f\"},\"error_y\":{\"color\":\"#2a3f5f\"},\"marker\":{\"line\":{\"color\":\"#E5ECF6\",\"width\":0.5},\"pattern\":{\"fillmode\":\"overlay\",\"size\":10,\"solidity\":0.2}},\"type\":\"bar\"}],\"barpolar\":[{\"marker\":{\"line\":{\"color\":\"#E5ECF6\",\"width\":0.5},\"pattern\":{\"fillmode\":\"overlay\",\"size\":10,\"solidity\":0.2}},\"type\":\"barpolar\"}],\"carpet\":[{\"aaxis\":{\"endlinecolor\":\"#2a3f5f\",\"gridcolor\":\"white\",\"linecolor\":\"white\",\"minorgridcolor\":\"white\",\"startlinecolor\":\"#2a3f5f\"},\"baxis\":{\"endlinecolor\":\"#2a3f5f\",\"gridcolor\":\"white\",\"linecolor\":\"white\",\"minorgridcolor\":\"white\",\"startlinecolor\":\"#2a3f5f\"},\"type\":\"carpet\"}],\"choropleth\":[{\"colorbar\":{\"outlinewidth\":0,\"ticks\":\"\"},\"type\":\"choropleth\"}],\"contour\":[{\"colorbar\":{\"outlinewidth\":0,\"ticks\":\"\"},\"colorscale\":[[0.0,\"#0d0887\"],[0.1111111111111111,\"#46039f\"],[0.2222222222222222,\"#7201a8\"],[0.3333333333333333,\"#9c179e\"],[0.4444444444444444,\"#bd3786\"],[0.5555555555555556,\"#d8576b\"],[0.6666666666666666,\"#ed7953\"],[0.7777777777777778,\"#fb9f3a\"],[0.8888888888888888,\"#fdca26\"],[1.0,\"#f0f921\"]],\"type\":\"contour\"}],\"contourcarpet\":[{\"colorbar\":{\"outlinewidth\":0,\"ticks\":\"\"},\"type\":\"contourcarpet\"}],\"heatmap\":[{\"colorbar\":{\"outlinewidth\":0,\"ticks\":\"\"},\"colorscale\":[[0.0,\"#0d0887\"],[0.1111111111111111,\"#46039f\"],[0.2222222222222222,\"#7201a8\"],[0.3333333333333333,\"#9c179e\"],[0.4444444444444444,\"#bd3786\"],[0.5555555555555556,\"#d8576b\"],[0.6666666666666666,\"#ed7953\"],[0.7777777777777778,\"#fb9f3a\"],[0.8888888888888888,\"#fdca26\"],[1.0,\"#f0f921\"]],\"type\":\"heatmap\"}],\"heatmapgl\":[{\"colorbar\":{\"outlinewidth\":0,\"ticks\":\"\"},\"colorscale\":[[0.0,\"#0d0887\"],[0.1111111111111111,\"#46039f\"],[0.2222222222222222,\"#7201a8\"],[0.3333333333333333,\"#9c179e\"],[0.4444444444444444,\"#bd3786\"],[0.5555555555555556,\"#d8576b\"],[0.6666666666666666,\"#ed7953\"],[0.7777777777777778,\"#fb9f3a\"],[0.8888888888888888,\"#fdca26\"],[1.0,\"#f0f921\"]],\"type\":\"heatmapgl\"}],\"histogram\":[{\"marker\":{\"pattern\":{\"fillmode\":\"overlay\",\"size\":10,\"solidity\":0.2}},\"type\":\"histogram\"}],\"histogram2d\":[{\"colorbar\":{\"outlinewidth\":0,\"ticks\":\"\"},\"colorscale\":[[0.0,\"#0d0887\"],[0.1111111111111111,\"#46039f\"],[0.2222222222222222,\"#7201a8\"],[0.3333333333333333,\"#9c179e\"],[0.4444444444444444,\"#bd3786\"],[0.5555555555555556,\"#d8576b\"],[0.6666666666666666,\"#ed7953\"],[0.7777777777777778,\"#fb9f3a\"],[0.8888888888888888,\"#fdca26\"],[1.0,\"#f0f921\"]],\"type\":\"histogram2d\"}],\"histogram2dcontour\":[{\"colorbar\":{\"outlinewidth\":0,\"ticks\":\"\"},\"colorscale\":[[0.0,\"#0d0887\"],[0.1111111111111111,\"#46039f\"],[0.2222222222222222,\"#7201a8\"],[0.3333333333333333,\"#9c179e\"],[0.4444444444444444,\"#bd3786\"],[0.5555555555555556,\"#d8576b\"],[0.6666666666666666,\"#ed7953\"],[0.7777777777777778,\"#fb9f3a\"],[0.8888888888888888,\"#fdca26\"],[1.0,\"#f0f921\"]],\"type\":\"histogram2dcontour\"}],\"mesh3d\":[{\"colorbar\":{\"outlinewidth\":0,\"ticks\":\"\"},\"type\":\"mesh3d\"}],\"parcoords\":[{\"line\":{\"colorbar\":{\"outlinewidth\":0,\"ticks\":\"\"}},\"type\":\"parcoords\"}],\"pie\":[{\"automargin\":true,\"type\":\"pie\"}],\"scatter\":[{\"marker\":{\"colorbar\":{\"outlinewidth\":0,\"ticks\":\"\"}},\"type\":\"scatter\"}],\"scatter3d\":[{\"line\":{\"colorbar\":{\"outlinewidth\":0,\"ticks\":\"\"}},\"marker\":{\"colorbar\":{\"outlinewidth\":0,\"ticks\":\"\"}},\"type\":\"scatter3d\"}],\"scattercarpet\":[{\"marker\":{\"colorbar\":{\"outlinewidth\":0,\"ticks\":\"\"}},\"type\":\"scattercarpet\"}],\"scattergeo\":[{\"marker\":{\"colorbar\":{\"outlinewidth\":0,\"ticks\":\"\"}},\"type\":\"scattergeo\"}],\"scattergl\":[{\"marker\":{\"colorbar\":{\"outlinewidth\":0,\"ticks\":\"\"}},\"type\":\"scattergl\"}],\"scattermapbox\":[{\"marker\":{\"colorbar\":{\"outlinewidth\":0,\"ticks\":\"\"}},\"type\":\"scattermapbox\"}],\"scatterpolar\":[{\"marker\":{\"colorbar\":{\"outlinewidth\":0,\"ticks\":\"\"}},\"type\":\"scatterpolar\"}],\"scatterpolargl\":[{\"marker\":{\"colorbar\":{\"outlinewidth\":0,\"ticks\":\"\"}},\"type\":\"scatterpolargl\"}],\"scatterternary\":[{\"marker\":{\"colorbar\":{\"outlinewidth\":0,\"ticks\":\"\"}},\"type\":\"scatterternary\"}],\"surface\":[{\"colorbar\":{\"outlinewidth\":0,\"ticks\":\"\"},\"colorscale\":[[0.0,\"#0d0887\"],[0.1111111111111111,\"#46039f\"],[0.2222222222222222,\"#7201a8\"],[0.3333333333333333,\"#9c179e\"],[0.4444444444444444,\"#bd3786\"],[0.5555555555555556,\"#d8576b\"],[0.6666666666666666,\"#ed7953\"],[0.7777777777777778,\"#fb9f3a\"],[0.8888888888888888,\"#fdca26\"],[1.0,\"#f0f921\"]],\"type\":\"surface\"}],\"table\":[{\"cells\":{\"fill\":{\"color\":\"#EBF0F8\"},\"line\":{\"color\":\"white\"}},\"header\":{\"fill\":{\"color\":\"#C8D4E3\"},\"line\":{\"color\":\"white\"}},\"type\":\"table\"}]},\"layout\":{\"annotationdefaults\":{\"arrowcolor\":\"#2a3f5f\",\"arrowhead\":0,\"arrowwidth\":1},\"autotypenumbers\":\"strict\",\"coloraxis\":{\"colorbar\":{\"outlinewidth\":0,\"ticks\":\"\"}},\"colorscale\":{\"diverging\":[[0,\"#8e0152\"],[0.1,\"#c51b7d\"],[0.2,\"#de77ae\"],[0.3,\"#f1b6da\"],[0.4,\"#fde0ef\"],[0.5,\"#f7f7f7\"],[0.6,\"#e6f5d0\"],[0.7,\"#b8e186\"],[0.8,\"#7fbc41\"],[0.9,\"#4d9221\"],[1,\"#276419\"]],\"sequential\":[[0.0,\"#0d0887\"],[0.1111111111111111,\"#46039f\"],[0.2222222222222222,\"#7201a8\"],[0.3333333333333333,\"#9c179e\"],[0.4444444444444444,\"#bd3786\"],[0.5555555555555556,\"#d8576b\"],[0.6666666666666666,\"#ed7953\"],[0.7777777777777778,\"#fb9f3a\"],[0.8888888888888888,\"#fdca26\"],[1.0,\"#f0f921\"]],\"sequentialminus\":[[0.0,\"#0d0887\"],[0.1111111111111111,\"#46039f\"],[0.2222222222222222,\"#7201a8\"],[0.3333333333333333,\"#9c179e\"],[0.4444444444444444,\"#bd3786\"],[0.5555555555555556,\"#d8576b\"],[0.6666666666666666,\"#ed7953\"],[0.7777777777777778,\"#fb9f3a\"],[0.8888888888888888,\"#fdca26\"],[1.0,\"#f0f921\"]]},\"colorway\":[\"#636efa\",\"#EF553B\",\"#00cc96\",\"#ab63fa\",\"#FFA15A\",\"#19d3f3\",\"#FF6692\",\"#B6E880\",\"#FF97FF\",\"#FECB52\"],\"font\":{\"color\":\"#2a3f5f\"},\"geo\":{\"bgcolor\":\"white\",\"lakecolor\":\"white\",\"landcolor\":\"#E5ECF6\",\"showlakes\":true,\"showland\":true,\"subunitcolor\":\"white\"},\"hoverlabel\":{\"align\":\"left\"},\"hovermode\":\"closest\",\"mapbox\":{\"style\":\"light\"},\"paper_bgcolor\":\"white\",\"plot_bgcolor\":\"#E5ECF6\",\"polar\":{\"angularaxis\":{\"gridcolor\":\"white\",\"linecolor\":\"white\",\"ticks\":\"\"},\"bgcolor\":\"#E5ECF6\",\"radialaxis\":{\"gridcolor\":\"white\",\"linecolor\":\"white\",\"ticks\":\"\"}},\"scene\":{\"xaxis\":{\"backgroundcolor\":\"#E5ECF6\",\"gridcolor\":\"white\",\"gridwidth\":2,\"linecolor\":\"white\",\"showbackground\":true,\"ticks\":\"\",\"zerolinecolor\":\"white\"},\"yaxis\":{\"backgroundcolor\":\"#E5ECF6\",\"gridcolor\":\"white\",\"gridwidth\":2,\"linecolor\":\"white\",\"showbackground\":true,\"ticks\":\"\",\"zerolinecolor\":\"white\"},\"zaxis\":{\"backgroundcolor\":\"#E5ECF6\",\"gridcolor\":\"white\",\"gridwidth\":2,\"linecolor\":\"white\",\"showbackground\":true,\"ticks\":\"\",\"zerolinecolor\":\"white\"}},\"shapedefaults\":{\"line\":{\"color\":\"#2a3f5f\"}},\"ternary\":{\"aaxis\":{\"gridcolor\":\"white\",\"linecolor\":\"white\",\"ticks\":\"\"},\"baxis\":{\"gridcolor\":\"white\",\"linecolor\":\"white\",\"ticks\":\"\"},\"bgcolor\":\"#E5ECF6\",\"caxis\":{\"gridcolor\":\"white\",\"linecolor\":\"white\",\"ticks\":\"\"}},\"title\":{\"x\":0.05},\"xaxis\":{\"automargin\":true,\"gridcolor\":\"white\",\"linecolor\":\"white\",\"ticks\":\"\",\"title\":{\"standoff\":15},\"zerolinecolor\":\"white\",\"zerolinewidth\":2},\"yaxis\":{\"automargin\":true,\"gridcolor\":\"white\",\"linecolor\":\"white\",\"ticks\":\"\",\"title\":{\"standoff\":15},\"zerolinecolor\":\"white\",\"zerolinewidth\":2}}},\"scene\":{\"domain\":{\"x\":[0.0,1.0],\"y\":[0.0,1.0]},\"xaxis\":{\"title\":{\"text\":\"x\"}},\"yaxis\":{\"title\":{\"text\":\"y\"}},\"zaxis\":{\"title\":{\"text\":\"z\"}}},\"legend\":{\"tracegroupgap\":0},\"margin\":{\"t\":60}},                        {\"responsive\": true}                    ).then(function(){\n",
              "                            \n",
              "var gd = document.getElementById('0166d353-2ea3-4ffc-b535-52ab8e8dbab8');\n",
              "var x = new MutationObserver(function (mutations, observer) {{\n",
              "        var display = window.getComputedStyle(gd).display;\n",
              "        if (!display || display === 'none') {{\n",
              "            console.log([gd, 'removed!']);\n",
              "            Plotly.purge(gd);\n",
              "            observer.disconnect();\n",
              "        }}\n",
              "}});\n",
              "\n",
              "// Listen for the removal of the full notebook cells\n",
              "var notebookContainer = gd.closest('#notebook-container');\n",
              "if (notebookContainer) {{\n",
              "    x.observe(notebookContainer, {childList: true});\n",
              "}}\n",
              "\n",
              "// Listen for the clearing of the current output cell\n",
              "var outputEl = gd.closest('.output');\n",
              "if (outputEl) {{\n",
              "    x.observe(outputEl, {childList: true});\n",
              "}}\n",
              "\n",
              "                        })                };                            </script>        </div>\n",
              "</body>\n",
              "</html>"
            ]
          },
          "metadata": {}
        }
      ]
    },
    {
      "cell_type": "code",
      "source": [
        "# ******************************************************************************************************\n",
        "X_multi = np.array([x,y]).reshape(100,2)\n",
        "X_multi.shape"
      ],
      "metadata": {
        "colab": {
          "base_uri": "https://localhost:8080/"
        },
        "id": "4GoUvHtZDnae",
        "outputId": "57f86095-9297-423e-8450-6a189c50b91f"
      },
      "execution_count": null,
      "outputs": [
        {
          "output_type": "execute_result",
          "data": {
            "text/plain": [
              "(100, 2)"
            ]
          },
          "metadata": {},
          "execution_count": 36
        }
      ]
    },
    {
      "cell_type": "code",
      "source": [
        "poly = PolynomialFeatures(degree=10)\n",
        "X_multi_trans = poly.fit_transform(X_multi)"
      ],
      "metadata": {
        "id": "UYbLUio-D7oA"
      },
      "execution_count": null,
      "outputs": []
    },
    {
      "cell_type": "code",
      "source": [
        "print(\"Input\",poly.n_input_features_)\n",
        "print(\"Ouput\",poly.n_output_features_)\n",
        "print(\"Powers\\n\",poly.powers_)"
      ],
      "metadata": {
        "id": "euR-xe6mD98q",
        "colab": {
          "base_uri": "https://localhost:8080/"
        },
        "outputId": "66b8267b-5d56-47d7-d713-87b17c9a0aa8"
      },
      "execution_count": null,
      "outputs": [
        {
          "output_type": "stream",
          "name": "stdout",
          "text": [
            "Input 2\n",
            "Ouput 66\n",
            "Powers\n",
            " [[ 0  0]\n",
            " [ 1  0]\n",
            " [ 0  1]\n",
            " [ 2  0]\n",
            " [ 1  1]\n",
            " [ 0  2]\n",
            " [ 3  0]\n",
            " [ 2  1]\n",
            " [ 1  2]\n",
            " [ 0  3]\n",
            " [ 4  0]\n",
            " [ 3  1]\n",
            " [ 2  2]\n",
            " [ 1  3]\n",
            " [ 0  4]\n",
            " [ 5  0]\n",
            " [ 4  1]\n",
            " [ 3  2]\n",
            " [ 2  3]\n",
            " [ 1  4]\n",
            " [ 0  5]\n",
            " [ 6  0]\n",
            " [ 5  1]\n",
            " [ 4  2]\n",
            " [ 3  3]\n",
            " [ 2  4]\n",
            " [ 1  5]\n",
            " [ 0  6]\n",
            " [ 7  0]\n",
            " [ 6  1]\n",
            " [ 5  2]\n",
            " [ 4  3]\n",
            " [ 3  4]\n",
            " [ 2  5]\n",
            " [ 1  6]\n",
            " [ 0  7]\n",
            " [ 8  0]\n",
            " [ 7  1]\n",
            " [ 6  2]\n",
            " [ 5  3]\n",
            " [ 4  4]\n",
            " [ 3  5]\n",
            " [ 2  6]\n",
            " [ 1  7]\n",
            " [ 0  8]\n",
            " [ 9  0]\n",
            " [ 8  1]\n",
            " [ 7  2]\n",
            " [ 6  3]\n",
            " [ 5  4]\n",
            " [ 4  5]\n",
            " [ 3  6]\n",
            " [ 2  7]\n",
            " [ 1  8]\n",
            " [ 0  9]\n",
            " [10  0]\n",
            " [ 9  1]\n",
            " [ 8  2]\n",
            " [ 7  3]\n",
            " [ 6  4]\n",
            " [ 5  5]\n",
            " [ 4  6]\n",
            " [ 3  7]\n",
            " [ 2  8]\n",
            " [ 1  9]\n",
            " [ 0 10]]\n"
          ]
        },
        {
          "output_type": "stream",
          "name": "stderr",
          "text": [
            "/usr/local/lib/python3.8/dist-packages/sklearn/utils/deprecation.py:103: FutureWarning:\n",
            "\n",
            "The attribute `n_input_features_` was deprecated in version 1.0 and will be removed in 1.2.\n",
            "\n"
          ]
        }
      ]
    },
    {
      "cell_type": "code",
      "source": [
        "X_multi_trans.shape"
      ],
      "metadata": {
        "colab": {
          "base_uri": "https://localhost:8080/"
        },
        "id": "5Fq4hvNnECT7",
        "outputId": "ab421792-c4ba-4418-84a5-9893d84beb5c"
      },
      "execution_count": null,
      "outputs": [
        {
          "output_type": "execute_result",
          "data": {
            "text/plain": [
              "(100, 66)"
            ]
          },
          "metadata": {},
          "execution_count": 39
        }
      ]
    },
    {
      "cell_type": "code",
      "source": [
        "lr = LinearRegression()\n",
        "lr.fit(X_multi_trans,z)"
      ],
      "metadata": {
        "colab": {
          "base_uri": "https://localhost:8080/"
        },
        "id": "58ZphD2rEEoj",
        "outputId": "2ad8ecfc-9adb-4888-fb5e-575aaf1b2718"
      },
      "execution_count": null,
      "outputs": [
        {
          "output_type": "execute_result",
          "data": {
            "text/plain": [
              "LinearRegression()"
            ]
          },
          "metadata": {},
          "execution_count": 40
        }
      ]
    },
    {
      "cell_type": "code",
      "source": [
        "X_test_multi = poly.transform(final)"
      ],
      "metadata": {
        "id": "qJi7jghVEG2_"
      },
      "execution_count": null,
      "outputs": []
    },
    {
      "cell_type": "code",
      "source": [
        "z_final = lr.predict(X_multi_trans).reshape(10,10)"
      ],
      "metadata": {
        "id": "Hhx711PdEJOh"
      },
      "execution_count": null,
      "outputs": []
    },
    {
      "cell_type": "code",
      "source": [
        "fig = px.scatter_3d(x=x.ravel(), y=y.ravel(), z=z.ravel())\n",
        "\n",
        "fig.add_trace(go.Surface(x = x_input, y = y_input, z =z_final))\n",
        "\n",
        "fig.update_layout(scene = dict(zaxis = dict(range=[0,35])))\n",
        "\n",
        "fig.show()\n",
        "\n",
        "# change the degree and observe this"
      ],
      "metadata": {
        "colab": {
          "base_uri": "https://localhost:8080/",
          "height": 542
        },
        "id": "2VBo0SRXELe0",
        "outputId": "b2fbe19e-324c-4d2b-84b2-e3b1f0fb4b5c"
      },
      "execution_count": null,
      "outputs": [
        {
          "output_type": "display_data",
          "data": {
            "text/html": [
              "<html>\n",
              "<head><meta charset=\"utf-8\" /></head>\n",
              "<body>\n",
              "    <div>            <script src=\"https://cdnjs.cloudflare.com/ajax/libs/mathjax/2.7.5/MathJax.js?config=TeX-AMS-MML_SVG\"></script><script type=\"text/javascript\">if (window.MathJax) {MathJax.Hub.Config({SVG: {font: \"STIX-Web\"}});}</script>                <script type=\"text/javascript\">window.PlotlyConfig = {MathJaxConfig: 'local'};</script>\n",
              "        <script src=\"https://cdn.plot.ly/plotly-2.8.3.min.js\"></script>                <div id=\"4a6d4618-e173-438b-bf89-5856b37e0895\" class=\"plotly-graph-div\" style=\"height:525px; width:100%;\"></div>            <script type=\"text/javascript\">                                    window.PLOTLYENV=window.PLOTLYENV || {};                                    if (document.getElementById(\"4a6d4618-e173-438b-bf89-5856b37e0895\")) {                    Plotly.newPlot(                        \"4a6d4618-e173-438b-bf89-5856b37e0895\",                        [{\"hovertemplate\":\"x=%{x}<br>y=%{y}<br>z=%{z}<extra></extra>\",\"legendgroup\":\"\",\"marker\":{\"color\":\"#636efa\",\"symbol\":\"circle\"},\"mode\":\"markers\",\"name\":\"\",\"scene\":\"scene\",\"showlegend\":false,\"x\":[2.8642389110269413,2.1063660565702875,2.5229360735325033,0.2709642064825588,3.3642446462261386,3.9971150863800364,3.5646067066286697,4.163316835058254,0.3468450693795715,2.5088161318082465,-2.787075800905861,2.2070121854765423,3.0113338397680636,-1.0374235697657124,0.8593429467212625,-2.329017705317295,0.5116467655171992,-1.2983319907898183,0.8694350975816558,3.8536401497117705,2.546665590214862,3.8452493292233143,3.0336578309741524,-2.1603702695516334,3.250071628631245,3.1863913305151863,-2.4540371161012775,3.721800833615993,-1.3708746839511683,3.087128129652979,3.6659311476235246,0.15046145929806487,0.16961781032464085,-0.7704406383778095,-1.8480294523746643,2.1563161611799107,3.8939666040734124,-2.3784749615173313,-1.4763036966976615,2.367468356562619,1.7102937732768666,3.8070328365680357,2.411196924973215,-2.292275013681418,1.849536959785758,2.9741599108234347,3.203170216512861,0.8501594285138965,-0.3323592928851231,2.6135633792758073,-0.4823919383530826,2.3637384323318127,3.2359783647767424,2.539908031920338,0.40512036149094177,1.5508185824807814,1.5997793931854227,3.58915351026293,2.0152598602662666,-2.287294304514827,-1.6471152296677567,1.6010089553098785,0.6602230783744059,3.51560737704121,1.1229998174002502,0.08043808394517704,-1.36211659018704,4.141620605570568,-2.23652754530405,2.1298376539084174,-0.07601935399494586,-2.516276090834979,-1.194440803957364,2.2085991338446957,2.1011423135408123,1.4145863686419338,4.011371415407832,-0.887946595637275,3.7700241764070945,-2.0930300824654973,-1.0060456493790655,-1.5069685850894352,-2.2120724718660414,-0.04055472019011619,-0.680206786256548,-1.016109853623615,3.8876488933658164,0.7027257199891737,-0.39646607000607625,2.6759380709586633,4.151679938979883,-2.707422991970452,-0.20773240813381433,2.911381911349478,2.894994436628246,-1.2156235191738531,-2.1894872009518838,0.9276832132132324,-2.5645567913897325,-2.0948812736545763],\"y\":[-0.18494790061779431,3.151271158335229,-1.511980497725026,2.372506420994161,-0.07473146476558057,3.217158768389454,-2.0875228286454948,3.1224237742553873,0.7650015442703686,1.9971713811506353,0.8468245985322058,-2.322467815332276,-2.7980013545461806,-0.5272199957925046,4.197697678944491,0.05174925941887265,1.7972360921007162,4.14957167807308,-1.2084974880485233,3.3385632943718857,2.4638005727418557,-1.0752956423287485,-1.5589339565690132,-0.2931956591544944,-0.8941832236060099,2.284700066701822,-0.8088037668850494,1.4845065881771227,-1.1857413681983133,1.9005277298346401,2.821451912616623,-2.4805173390192667,-1.4918419836065229,-0.488185691841561,3.4463279863645218,-1.9931947115930162,-2.0708443880530787,0.23998367858322922,1.030802219342836,0.19664364699357728,1.5814049976519984,-0.47211479439380977,1.4273537991235585,-0.05939805496261874,1.9836426515438808,3.8932084866129744,3.7954441832645758,3.707987301334385,-0.5183663844598971,0.6207670471299798,1.6033658937818789,4.158897980249509,1.9618272680664983,-2.2263055839603667,2.9792997985945933,-1.1667022927039186,0.2985230884025514,-1.8238772484094583,3.6743607914266114,-2.6057892606595723,3.48017973618341,-2.656901795852219,2.6800156277080243,-1.8805651657715505,-0.23540028520796374,-1.7532887288149368,-0.7835140284533577,1.6033767692524927,3.1569365877045366,-1.3029733945235438,0.41323662188938837,1.4013919507698906,3.974680767624357,-0.7719518140118806,-1.6308667407378528,-0.5045134597043583,-2.090123316211836,1.2466031924087222,-2.2420440366882692,-0.9759958166149096,-1.3635867771439436,-1.06559408076612,2.853708639211087,3.3519114470421343,2.158360667954142,1.1525718340007645,0.34719073206668893,2.2195851599660052,-0.8040577939374547,-1.3889119082574903,-1.7305878941680006,-2.312232328391464,0.9593226875864853,3.681345232531153,-0.07855404553857559,-2.5756831253326276,1.4557530365451887,-2.1327977173605808,1.2351598490558677,-2.7283536269962996],\"z\":[11.095252509076614,17.094960818202622,9.805485407945804,7.29361813129748,12.954459626730321,31.19645461181512,18.04708398174683,30.689604937830993,4.062807227164668,14.706422795220748,8.621943606638792,11.408327955357535,19.533280463392643,3.722960977790778,19.806236247527238,5.701002840340249,5.905784076043977,22.36407886553863,2.9434752036971177,31.907433451220605,16.823184318267053,18.017838753041392,12.445846598359134,8.639666008992956,13.782636934879687,19.01058972171898,8.506810543975284,20.074152592737786,6.93107287452507,18.55901705055863,25.42314997254973,6.1117750095972205,1.4586769818415153,3.220077214530963,16.579136274559957,9.540600355131527,19.307325025251025,6.322856181421442,5.254218778025404,7.525913855038565,7.388132130320558,16.965740136073617,10.706926108894189,6.8433435687168105,8.925256029471976,30.181089736878445,29.44937421465514,17.94364822093525,3.7558046894911534,10.090246977858813,5.18077191755381,27.383365692596513,17.94594820085004,14.42172607061594,12.183661328982966,5.791420905158939,5.362832357304488,19.159903206676095,20.601667938413826,13.369511480205949,16.445425259062656,8.593669592215132,9.959322196724065,14.982999449561895,5.5311357182501375,5.098355952523895,3.816992990470239,24.077929923705437,14.810314580862839,7.730451331106716,1.789027372659902,9.560974173219972,19.281351616051953,7.8738319004986295,9.674437992009597,4.823727357847803,21.427606324428677,4.258293707058077,21.79892525801498,8.242865338672921,3.0632750755208793,6.8014995970605785,14.753577352051177,15.21854369809855,7.48646731211982,3.038521607401977,18.966646893497465,8.467783539139939,2.084149005583694,11.998266196496715,21.572575846300104,14.064532054806426,2.6837986306233295,26.103671123504053,9.459283113647725,11.155412591327057,8.412710754093734,6.94321452233432,8.793875614430608,12.844018925519752],\"type\":\"scatter3d\"},{\"x\":[-2.787075800905861,-2.014809952465404,-1.2425441040249467,-0.47027825558448955,0.30198759285596743,1.0742534412964244,1.8465192897368818,2.6187851381773384,3.391050986617796,4.163316835058254],\"y\":[-2.7980013545461806,-2.020701461936106,-1.2434015693260314,-0.4661016767159567,0.3111982158941178,1.0884981085041923,1.8657980011142672,2.6430978937243412,3.420397786334416,4.197697678944491],\"z\":[[11.968798160552979,33.893373250961304,18.093183279037476,2.3813977241516113,23.57857871055603,31.115591526031494,16.35856580734253,11.008097887039185,5.7301130294799805,5.428196668624878],[11.169252872467041,4.90132212638855,23.975404500961304,2.8266589641571045,24.32321858406067,7.785776615142822,7.7275965213775635,36.93651604652405,3.6409432888031006,35.03785753250122],[14.339608192443848,11.679479360580444,0.5644388198852539,15.343199968338013,16.526960849761963,16.560784578323364,5.042788743972778,15.155719518661499,6.290163278579712,8.185932874679565],[23.08886456489563,19.831352710723877,5.669676065444946,4.387312412261963,18.95187783241272,6.928330898284912,22.516807317733765,2.4686577320098877,13.165481805801392,19.00368070602417],[7.721476316452026,-2.7240242958068848,9.006845712661743,2.4645836353302,14.75470232963562,29.515871047973633,14.298763275146484,16.126059532165527,-4.02007532119751,10.88754153251648],[9.513054132461548,36.46855354309082,10.91491413116455,15.793877601623535,12.348571300506592,11.027381420135498,8.153970003128052,22.378501892089844,22.780672073364258,4.436851739883423],[18.33119559288025,5.242578983306885,16.296744108200073,14.51625394821167,19.00567364692688,18.158697366714478,6.8630530834198,8.305140733718872,1.4040846824645996,4.94980001449585],[10.405709981918335,7.971759080886841,18.816176891326904,8.350821733474731,13.071081399917603,2.805934429168701,4.3538360595703125,15.529035568237305,16.813838243484497,-0.43969202041625977],[11.953564643859863,5.645594120025635,16.79168200492859,14.670783519744873,11.192063331604004,13.592299699783325,4.667292594909668,10.844248056411743,5.3537492752075195,9.531337261199951],[16.714773416519165,2.292325973510742,4.106424331665039,23.02305841445923,14.672134637832642,10.836089849472046,18.070926427841187,16.445714235305786,-1.096775770187378,14.246376991271973]],\"type\":\"surface\"}],                        {\"template\":{\"data\":{\"bar\":[{\"error_x\":{\"color\":\"#2a3f5f\"},\"error_y\":{\"color\":\"#2a3f5f\"},\"marker\":{\"line\":{\"color\":\"#E5ECF6\",\"width\":0.5},\"pattern\":{\"fillmode\":\"overlay\",\"size\":10,\"solidity\":0.2}},\"type\":\"bar\"}],\"barpolar\":[{\"marker\":{\"line\":{\"color\":\"#E5ECF6\",\"width\":0.5},\"pattern\":{\"fillmode\":\"overlay\",\"size\":10,\"solidity\":0.2}},\"type\":\"barpolar\"}],\"carpet\":[{\"aaxis\":{\"endlinecolor\":\"#2a3f5f\",\"gridcolor\":\"white\",\"linecolor\":\"white\",\"minorgridcolor\":\"white\",\"startlinecolor\":\"#2a3f5f\"},\"baxis\":{\"endlinecolor\":\"#2a3f5f\",\"gridcolor\":\"white\",\"linecolor\":\"white\",\"minorgridcolor\":\"white\",\"startlinecolor\":\"#2a3f5f\"},\"type\":\"carpet\"}],\"choropleth\":[{\"colorbar\":{\"outlinewidth\":0,\"ticks\":\"\"},\"type\":\"choropleth\"}],\"contour\":[{\"colorbar\":{\"outlinewidth\":0,\"ticks\":\"\"},\"colorscale\":[[0.0,\"#0d0887\"],[0.1111111111111111,\"#46039f\"],[0.2222222222222222,\"#7201a8\"],[0.3333333333333333,\"#9c179e\"],[0.4444444444444444,\"#bd3786\"],[0.5555555555555556,\"#d8576b\"],[0.6666666666666666,\"#ed7953\"],[0.7777777777777778,\"#fb9f3a\"],[0.8888888888888888,\"#fdca26\"],[1.0,\"#f0f921\"]],\"type\":\"contour\"}],\"contourcarpet\":[{\"colorbar\":{\"outlinewidth\":0,\"ticks\":\"\"},\"type\":\"contourcarpet\"}],\"heatmap\":[{\"colorbar\":{\"outlinewidth\":0,\"ticks\":\"\"},\"colorscale\":[[0.0,\"#0d0887\"],[0.1111111111111111,\"#46039f\"],[0.2222222222222222,\"#7201a8\"],[0.3333333333333333,\"#9c179e\"],[0.4444444444444444,\"#bd3786\"],[0.5555555555555556,\"#d8576b\"],[0.6666666666666666,\"#ed7953\"],[0.7777777777777778,\"#fb9f3a\"],[0.8888888888888888,\"#fdca26\"],[1.0,\"#f0f921\"]],\"type\":\"heatmap\"}],\"heatmapgl\":[{\"colorbar\":{\"outlinewidth\":0,\"ticks\":\"\"},\"colorscale\":[[0.0,\"#0d0887\"],[0.1111111111111111,\"#46039f\"],[0.2222222222222222,\"#7201a8\"],[0.3333333333333333,\"#9c179e\"],[0.4444444444444444,\"#bd3786\"],[0.5555555555555556,\"#d8576b\"],[0.6666666666666666,\"#ed7953\"],[0.7777777777777778,\"#fb9f3a\"],[0.8888888888888888,\"#fdca26\"],[1.0,\"#f0f921\"]],\"type\":\"heatmapgl\"}],\"histogram\":[{\"marker\":{\"pattern\":{\"fillmode\":\"overlay\",\"size\":10,\"solidity\":0.2}},\"type\":\"histogram\"}],\"histogram2d\":[{\"colorbar\":{\"outlinewidth\":0,\"ticks\":\"\"},\"colorscale\":[[0.0,\"#0d0887\"],[0.1111111111111111,\"#46039f\"],[0.2222222222222222,\"#7201a8\"],[0.3333333333333333,\"#9c179e\"],[0.4444444444444444,\"#bd3786\"],[0.5555555555555556,\"#d8576b\"],[0.6666666666666666,\"#ed7953\"],[0.7777777777777778,\"#fb9f3a\"],[0.8888888888888888,\"#fdca26\"],[1.0,\"#f0f921\"]],\"type\":\"histogram2d\"}],\"histogram2dcontour\":[{\"colorbar\":{\"outlinewidth\":0,\"ticks\":\"\"},\"colorscale\":[[0.0,\"#0d0887\"],[0.1111111111111111,\"#46039f\"],[0.2222222222222222,\"#7201a8\"],[0.3333333333333333,\"#9c179e\"],[0.4444444444444444,\"#bd3786\"],[0.5555555555555556,\"#d8576b\"],[0.6666666666666666,\"#ed7953\"],[0.7777777777777778,\"#fb9f3a\"],[0.8888888888888888,\"#fdca26\"],[1.0,\"#f0f921\"]],\"type\":\"histogram2dcontour\"}],\"mesh3d\":[{\"colorbar\":{\"outlinewidth\":0,\"ticks\":\"\"},\"type\":\"mesh3d\"}],\"parcoords\":[{\"line\":{\"colorbar\":{\"outlinewidth\":0,\"ticks\":\"\"}},\"type\":\"parcoords\"}],\"pie\":[{\"automargin\":true,\"type\":\"pie\"}],\"scatter\":[{\"marker\":{\"colorbar\":{\"outlinewidth\":0,\"ticks\":\"\"}},\"type\":\"scatter\"}],\"scatter3d\":[{\"line\":{\"colorbar\":{\"outlinewidth\":0,\"ticks\":\"\"}},\"marker\":{\"colorbar\":{\"outlinewidth\":0,\"ticks\":\"\"}},\"type\":\"scatter3d\"}],\"scattercarpet\":[{\"marker\":{\"colorbar\":{\"outlinewidth\":0,\"ticks\":\"\"}},\"type\":\"scattercarpet\"}],\"scattergeo\":[{\"marker\":{\"colorbar\":{\"outlinewidth\":0,\"ticks\":\"\"}},\"type\":\"scattergeo\"}],\"scattergl\":[{\"marker\":{\"colorbar\":{\"outlinewidth\":0,\"ticks\":\"\"}},\"type\":\"scattergl\"}],\"scattermapbox\":[{\"marker\":{\"colorbar\":{\"outlinewidth\":0,\"ticks\":\"\"}},\"type\":\"scattermapbox\"}],\"scatterpolar\":[{\"marker\":{\"colorbar\":{\"outlinewidth\":0,\"ticks\":\"\"}},\"type\":\"scatterpolar\"}],\"scatterpolargl\":[{\"marker\":{\"colorbar\":{\"outlinewidth\":0,\"ticks\":\"\"}},\"type\":\"scatterpolargl\"}],\"scatterternary\":[{\"marker\":{\"colorbar\":{\"outlinewidth\":0,\"ticks\":\"\"}},\"type\":\"scatterternary\"}],\"surface\":[{\"colorbar\":{\"outlinewidth\":0,\"ticks\":\"\"},\"colorscale\":[[0.0,\"#0d0887\"],[0.1111111111111111,\"#46039f\"],[0.2222222222222222,\"#7201a8\"],[0.3333333333333333,\"#9c179e\"],[0.4444444444444444,\"#bd3786\"],[0.5555555555555556,\"#d8576b\"],[0.6666666666666666,\"#ed7953\"],[0.7777777777777778,\"#fb9f3a\"],[0.8888888888888888,\"#fdca26\"],[1.0,\"#f0f921\"]],\"type\":\"surface\"}],\"table\":[{\"cells\":{\"fill\":{\"color\":\"#EBF0F8\"},\"line\":{\"color\":\"white\"}},\"header\":{\"fill\":{\"color\":\"#C8D4E3\"},\"line\":{\"color\":\"white\"}},\"type\":\"table\"}]},\"layout\":{\"annotationdefaults\":{\"arrowcolor\":\"#2a3f5f\",\"arrowhead\":0,\"arrowwidth\":1},\"autotypenumbers\":\"strict\",\"coloraxis\":{\"colorbar\":{\"outlinewidth\":0,\"ticks\":\"\"}},\"colorscale\":{\"diverging\":[[0,\"#8e0152\"],[0.1,\"#c51b7d\"],[0.2,\"#de77ae\"],[0.3,\"#f1b6da\"],[0.4,\"#fde0ef\"],[0.5,\"#f7f7f7\"],[0.6,\"#e6f5d0\"],[0.7,\"#b8e186\"],[0.8,\"#7fbc41\"],[0.9,\"#4d9221\"],[1,\"#276419\"]],\"sequential\":[[0.0,\"#0d0887\"],[0.1111111111111111,\"#46039f\"],[0.2222222222222222,\"#7201a8\"],[0.3333333333333333,\"#9c179e\"],[0.4444444444444444,\"#bd3786\"],[0.5555555555555556,\"#d8576b\"],[0.6666666666666666,\"#ed7953\"],[0.7777777777777778,\"#fb9f3a\"],[0.8888888888888888,\"#fdca26\"],[1.0,\"#f0f921\"]],\"sequentialminus\":[[0.0,\"#0d0887\"],[0.1111111111111111,\"#46039f\"],[0.2222222222222222,\"#7201a8\"],[0.3333333333333333,\"#9c179e\"],[0.4444444444444444,\"#bd3786\"],[0.5555555555555556,\"#d8576b\"],[0.6666666666666666,\"#ed7953\"],[0.7777777777777778,\"#fb9f3a\"],[0.8888888888888888,\"#fdca26\"],[1.0,\"#f0f921\"]]},\"colorway\":[\"#636efa\",\"#EF553B\",\"#00cc96\",\"#ab63fa\",\"#FFA15A\",\"#19d3f3\",\"#FF6692\",\"#B6E880\",\"#FF97FF\",\"#FECB52\"],\"font\":{\"color\":\"#2a3f5f\"},\"geo\":{\"bgcolor\":\"white\",\"lakecolor\":\"white\",\"landcolor\":\"#E5ECF6\",\"showlakes\":true,\"showland\":true,\"subunitcolor\":\"white\"},\"hoverlabel\":{\"align\":\"left\"},\"hovermode\":\"closest\",\"mapbox\":{\"style\":\"light\"},\"paper_bgcolor\":\"white\",\"plot_bgcolor\":\"#E5ECF6\",\"polar\":{\"angularaxis\":{\"gridcolor\":\"white\",\"linecolor\":\"white\",\"ticks\":\"\"},\"bgcolor\":\"#E5ECF6\",\"radialaxis\":{\"gridcolor\":\"white\",\"linecolor\":\"white\",\"ticks\":\"\"}},\"scene\":{\"xaxis\":{\"backgroundcolor\":\"#E5ECF6\",\"gridcolor\":\"white\",\"gridwidth\":2,\"linecolor\":\"white\",\"showbackground\":true,\"ticks\":\"\",\"zerolinecolor\":\"white\"},\"yaxis\":{\"backgroundcolor\":\"#E5ECF6\",\"gridcolor\":\"white\",\"gridwidth\":2,\"linecolor\":\"white\",\"showbackground\":true,\"ticks\":\"\",\"zerolinecolor\":\"white\"},\"zaxis\":{\"backgroundcolor\":\"#E5ECF6\",\"gridcolor\":\"white\",\"gridwidth\":2,\"linecolor\":\"white\",\"showbackground\":true,\"ticks\":\"\",\"zerolinecolor\":\"white\"}},\"shapedefaults\":{\"line\":{\"color\":\"#2a3f5f\"}},\"ternary\":{\"aaxis\":{\"gridcolor\":\"white\",\"linecolor\":\"white\",\"ticks\":\"\"},\"baxis\":{\"gridcolor\":\"white\",\"linecolor\":\"white\",\"ticks\":\"\"},\"bgcolor\":\"#E5ECF6\",\"caxis\":{\"gridcolor\":\"white\",\"linecolor\":\"white\",\"ticks\":\"\"}},\"title\":{\"x\":0.05},\"xaxis\":{\"automargin\":true,\"gridcolor\":\"white\",\"linecolor\":\"white\",\"ticks\":\"\",\"title\":{\"standoff\":15},\"zerolinecolor\":\"white\",\"zerolinewidth\":2},\"yaxis\":{\"automargin\":true,\"gridcolor\":\"white\",\"linecolor\":\"white\",\"ticks\":\"\",\"title\":{\"standoff\":15},\"zerolinecolor\":\"white\",\"zerolinewidth\":2}}},\"scene\":{\"domain\":{\"x\":[0.0,1.0],\"y\":[0.0,1.0]},\"xaxis\":{\"title\":{\"text\":\"x\"}},\"yaxis\":{\"title\":{\"text\":\"y\"}},\"zaxis\":{\"title\":{\"text\":\"z\"},\"range\":[0,35]}},\"legend\":{\"tracegroupgap\":0},\"margin\":{\"t\":60}},                        {\"responsive\": true}                    ).then(function(){\n",
              "                            \n",
              "var gd = document.getElementById('4a6d4618-e173-438b-bf89-5856b37e0895');\n",
              "var x = new MutationObserver(function (mutations, observer) {{\n",
              "        var display = window.getComputedStyle(gd).display;\n",
              "        if (!display || display === 'none') {{\n",
              "            console.log([gd, 'removed!']);\n",
              "            Plotly.purge(gd);\n",
              "            observer.disconnect();\n",
              "        }}\n",
              "}});\n",
              "\n",
              "// Listen for the removal of the full notebook cells\n",
              "var notebookContainer = gd.closest('#notebook-container');\n",
              "if (notebookContainer) {{\n",
              "    x.observe(notebookContainer, {childList: true});\n",
              "}}\n",
              "\n",
              "// Listen for the clearing of the current output cell\n",
              "var outputEl = gd.closest('.output');\n",
              "if (outputEl) {{\n",
              "    x.observe(outputEl, {childList: true});\n",
              "}}\n",
              "\n",
              "                        })                };                            </script>        </div>\n",
              "</body>\n",
              "</html>"
            ]
          },
          "metadata": {}
        }
      ]
    },
    {
      "cell_type": "code",
      "source": [],
      "metadata": {
        "id": "pLt8M7V7EgkG"
      },
      "execution_count": null,
      "outputs": []
    }
  ]
}