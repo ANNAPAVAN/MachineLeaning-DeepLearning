{
  "nbformat": 4,
  "nbformat_minor": 0,
  "metadata": {
    "colab": {
      "provenance": []
    },
    "kernelspec": {
      "name": "python3",
      "display_name": "Python 3"
    },
    "language_info": {
      "name": "python"
    }
  },
  "cells": [
    {
      "cell_type": "code",
      "metadata": {
        "id": "dd82LHwLmpkF"
      },
      "source": [
        "from sklearn.datasets import make_regression\n",
        "import pandas as pd\n",
        "import numpy as np\n",
        "\n",
        "import plotly.express as px\n",
        "import plotly.graph_objects as go\n",
        "\n",
        "from sklearn.metrics import mean_absolute_error,mean_squared_error,r2_score"
      ],
      "execution_count": null,
      "outputs": []
    },
    {
      "cell_type": "code",
      "metadata": {
        "id": "o-kkwl10m9Ef"
      },
      "source": [
        "# 100 rows\n",
        "# 2 input clos\n",
        "# 1 output col\n",
        "X,y = make_regression(n_samples=100, n_features=2, n_informative=2, n_targets=1, noise=50)"
      ],
      "execution_count": null,
      "outputs": []
    },
    {
      "cell_type": "code",
      "metadata": {
        "id": "hf4eEtH5nNZC"
      },
      "source": [
        "df = pd.DataFrame({'feature1':X[:,0],'feature2':X[:,1],'target':y})"
      ],
      "execution_count": null,
      "outputs": []
    },
    {
      "cell_type": "code",
      "source": [
        "X"
      ],
      "metadata": {
        "id": "RmSIiHxSMzGR",
        "colab": {
          "base_uri": "https://localhost:8080/"
        },
        "outputId": "55feae46-8d44-4bf4-a702-06fc667e2fe8"
      },
      "execution_count": null,
      "outputs": [
        {
          "output_type": "execute_result",
          "data": {
            "text/plain": [
              "array([[ 7.80156089e-01, -1.04515803e+00],\n",
              "       [ 6.30774593e-01, -2.37635705e-01],\n",
              "       [-1.14690875e+00,  1.24147668e+00],\n",
              "       [ 7.86793157e-01, -1.06846008e+00],\n",
              "       [-1.17184935e+00, -8.88502089e-03],\n",
              "       [ 7.66998010e-01,  5.71302213e-01],\n",
              "       [-3.51964200e-01,  1.18030271e+00],\n",
              "       [ 2.03045465e+00, -3.20075292e-01],\n",
              "       [-4.65760971e-01,  2.07625898e-01],\n",
              "       [-1.67742096e+00, -4.41362144e-01],\n",
              "       [ 2.78072121e+00, -1.56395153e+00],\n",
              "       [-1.52416376e-01, -2.08505057e-01],\n",
              "       [ 2.45134078e-01,  3.58659327e-02],\n",
              "       [ 5.14170828e-01, -6.31293723e-01],\n",
              "       [ 1.46247753e-02,  2.78010098e+00],\n",
              "       [-7.27984585e-01,  5.21661886e-01],\n",
              "       [ 1.42216715e+00, -8.89785051e-01],\n",
              "       [ 7.68098490e-02, -1.61484710e+00],\n",
              "       [ 4.82056908e-01,  1.42409992e+00],\n",
              "       [-1.86089862e+00,  1.33392831e+00],\n",
              "       [-7.83253094e-01,  5.57259812e-01],\n",
              "       [-2.05274552e-01, -4.85802251e-01],\n",
              "       [ 2.61100260e-02, -2.75887518e-01],\n",
              "       [ 1.66800584e+00, -9.90531938e-01],\n",
              "       [ 1.42669156e+00,  1.51615554e+00],\n",
              "       [-2.88173854e-01, -6.85011903e-01],\n",
              "       [-3.07632034e-01,  5.96247350e-02],\n",
              "       [ 5.96497038e-01,  3.74254645e-01],\n",
              "       [-1.45513274e+00, -1.89730341e-01],\n",
              "       [ 8.03713537e-02, -2.02863980e-01],\n",
              "       [ 2.91912558e-02,  3.44653651e-01],\n",
              "       [-2.68706456e-01,  1.10104060e+00],\n",
              "       [ 1.30024264e+00,  3.39592674e-01],\n",
              "       [-7.48328580e-01, -2.07784991e-01],\n",
              "       [-7.35510836e-01,  3.08688342e-02],\n",
              "       [ 1.76712251e+00, -3.02654613e+00],\n",
              "       [-1.34243519e+00,  1.08422744e+00],\n",
              "       [ 1.58124890e+00,  4.25448552e-01],\n",
              "       [ 2.27950468e-03, -5.93628161e-01],\n",
              "       [ 1.88461881e-01,  5.27301729e-01],\n",
              "       [-1.17064659e+00, -2.23696468e-01],\n",
              "       [ 4.19050734e-01, -1.07779085e+00],\n",
              "       [-6.44204383e-01,  7.21799780e-01],\n",
              "       [ 1.28770306e+00,  2.87351722e-01],\n",
              "       [-2.26408136e-01,  1.47142043e+00],\n",
              "       [-3.64280178e-01, -1.61253397e+00],\n",
              "       [-1.60035587e-02, -6.18820249e-01],\n",
              "       [-7.54732563e-01,  3.67628365e-01],\n",
              "       [ 3.17101181e-01, -1.22189331e+00],\n",
              "       [ 1.87084070e+00,  1.57985137e-01],\n",
              "       [-1.58864876e+00, -2.51563097e+00],\n",
              "       [ 4.36651683e-01,  2.21886101e+00],\n",
              "       [ 7.56558784e-01,  1.18761423e-01],\n",
              "       [-1.40622875e+00,  1.33431852e+00],\n",
              "       [ 1.32191352e+00,  1.85221240e+00],\n",
              "       [ 6.44197265e-01, -5.79488929e-01],\n",
              "       [ 8.68475826e-01,  2.49623667e+00],\n",
              "       [-2.29537437e-01,  2.01797881e+00],\n",
              "       [-6.82872624e-01,  1.74739041e-01],\n",
              "       [-1.99574310e-01,  8.93465433e-01],\n",
              "       [-8.65133700e-01,  1.75886574e+00],\n",
              "       [ 6.93679834e-01,  9.85176366e-01],\n",
              "       [ 6.24539576e-01,  2.98165413e-01],\n",
              "       [-8.45882466e-01,  2.71599204e-01],\n",
              "       [-5.49316956e-01,  1.37439106e-01],\n",
              "       [ 4.95742115e-01, -4.05597870e-02],\n",
              "       [ 3.39862588e-01, -1.42789759e+00],\n",
              "       [ 2.65289360e-01,  1.76230584e+00],\n",
              "       [-1.17538173e+00,  1.02423364e+00],\n",
              "       [-1.66363569e+00,  4.57701926e-01],\n",
              "       [-6.70611854e-01, -9.82917476e-01],\n",
              "       [-1.22200805e+00,  2.52472282e+00],\n",
              "       [-7.44918711e-01,  1.53235791e+00],\n",
              "       [ 1.74592871e+00, -1.41280661e+00],\n",
              "       [-1.53475674e+00,  1.71593439e+00],\n",
              "       [-9.79534718e-01, -9.05279439e-02],\n",
              "       [ 1.39199622e+00,  2.53108341e-01],\n",
              "       [-9.78747895e-01, -4.18136658e-01],\n",
              "       [-5.87408928e-01, -1.46188519e+00],\n",
              "       [ 6.82342649e-01, -6.10751944e-01],\n",
              "       [-1.07713965e-02, -1.86507437e+00],\n",
              "       [-7.22837333e-01,  3.08374855e-01],\n",
              "       [-2.26872619e+00,  1.53960606e+00],\n",
              "       [ 9.83810958e-01,  3.11647750e-01],\n",
              "       [-3.34335505e-01,  7.98294244e-02],\n",
              "       [ 4.81117741e-01,  1.51639478e+00],\n",
              "       [-4.68602831e-01, -8.50237192e-01],\n",
              "       [ 6.78056241e-01,  1.59879857e+00],\n",
              "       [-3.17058667e-01, -8.74794846e-01],\n",
              "       [ 6.04647305e-01,  5.68240406e-01],\n",
              "       [ 8.80653024e-01, -1.09650198e+00],\n",
              "       [-1.60416802e+00, -2.16455374e-02],\n",
              "       [ 3.08377763e+00, -7.98193260e-01],\n",
              "       [-1.96389647e+00,  7.90528776e-01],\n",
              "       [-3.46207433e-01, -1.40772793e+00],\n",
              "       [ 6.25456155e-01, -2.29611634e-01],\n",
              "       [-6.46035170e-02, -4.66999532e-01],\n",
              "       [ 2.81154047e-01, -1.88918476e+00],\n",
              "       [-6.41720133e-01,  2.04553920e+00],\n",
              "       [ 1.73130168e+00, -5.37034586e-01]])"
            ]
          },
          "metadata": {},
          "execution_count": 28
        }
      ]
    },
    {
      "cell_type": "code",
      "source": [
        "y\n"
      ],
      "metadata": {
        "id": "x0oTfIHoMwnt",
        "colab": {
          "base_uri": "https://localhost:8080/"
        },
        "outputId": "744329ee-baf6-479c-f791-b176b620080e"
      },
      "execution_count": null,
      "outputs": [
        {
          "output_type": "execute_result",
          "data": {
            "text/plain": [
              "array([  83.22778416,   24.92733944, -118.59378939,   61.51080809,\n",
              "        -80.41335776,   13.35710477,   33.87030602,  162.48547887,\n",
              "          3.72561516, -139.73423541,  102.74243794,  -29.30745509,\n",
              "         40.9110036 ,   76.32887471,   31.33456654,  -40.20798929,\n",
              "         62.66072736,  -34.45258073,   90.54931658,  -77.1972452 ,\n",
              "        -22.2468038 ,  -51.16300283,   34.43966555,  137.74867781,\n",
              "        108.57415806,  -43.56593246,   50.41061132,  -26.95698893,\n",
              "        -67.79072509,    9.33872838,  -42.56499438,  -27.57361883,\n",
              "         43.82551129, -103.18927307,   73.03006878,    4.63328301,\n",
              "         23.97804123,  142.20932433,  -81.90282931,   32.2504064 ,\n",
              "        -99.5862061 ,  -51.85539774,   -2.19712828,   71.50715242,\n",
              "         40.08654974,   15.8687409 ,   32.39895771,   70.2534984 ,\n",
              "         46.5541468 ,   72.67968489, -106.32622448,    8.65654748,\n",
              "         62.60289179,   16.53715408,   93.47843009,  -21.835538  ,\n",
              "        106.24394742,    6.59859471,  -54.47986526,    4.88968217,\n",
              "          4.461478  ,  185.05355432,   44.88064992,  -13.33078232,\n",
              "         18.06195986, -102.26813241,   14.83296213,  106.2016966 ,\n",
              "        -80.51705368,   20.41276485,    5.22893049,   -2.47592781,\n",
              "         -4.67951639,   65.24763665,   40.61667442,  -64.69492647,\n",
              "         -9.8665904 ,   31.22401362,  -17.28354175,  169.31531384,\n",
              "         50.99454229, -129.57957043,  -58.11429336,    2.70335859,\n",
              "       -147.02946412,  145.10521051,  -33.38769485,   88.46771284,\n",
              "        -48.49791384,   98.12910936,  -27.90198549,  -28.18845984,\n",
              "        167.90154209,  -96.26202283,  -35.65019914,  -35.9429161 ,\n",
              "        -83.10888559,  -34.5568329 ,   14.04701554,  131.68502693])"
            ]
          },
          "metadata": {},
          "execution_count": 29
        }
      ]
    },
    {
      "cell_type": "code",
      "metadata": {
        "colab": {
          "base_uri": "https://localhost:8080/"
        },
        "id": "hfz-7c5pmmOw",
        "outputId": "e192c5be-7bfe-4725-e167-7c9d22ed44c4"
      },
      "source": [
        "df.shape"
      ],
      "execution_count": null,
      "outputs": [
        {
          "output_type": "execute_result",
          "data": {
            "text/plain": [
              "(100, 3)"
            ]
          },
          "metadata": {},
          "execution_count": 30
        }
      ]
    },
    {
      "cell_type": "code",
      "metadata": {
        "colab": {
          "base_uri": "https://localhost:8080/",
          "height": 206
        },
        "id": "01dAHVqsAuDp",
        "outputId": "6ec594eb-cf7e-426b-8e36-3371eff18bb2"
      },
      "source": [
        "df.head()"
      ],
      "execution_count": null,
      "outputs": [
        {
          "output_type": "execute_result",
          "data": {
            "text/plain": [
              "   feature1  feature2      target\n",
              "0  0.780156 -1.045158   83.227784\n",
              "1  0.630775 -0.237636   24.927339\n",
              "2 -1.146909  1.241477 -118.593789\n",
              "3  0.786793 -1.068460   61.510808\n",
              "4 -1.171849 -0.008885  -80.413358"
            ],
            "text/html": [
              "\n",
              "  <div id=\"df-f1f26cdf-4eef-49b1-9d60-b2d305623bcc\">\n",
              "    <div class=\"colab-df-container\">\n",
              "      <div>\n",
              "<style scoped>\n",
              "    .dataframe tbody tr th:only-of-type {\n",
              "        vertical-align: middle;\n",
              "    }\n",
              "\n",
              "    .dataframe tbody tr th {\n",
              "        vertical-align: top;\n",
              "    }\n",
              "\n",
              "    .dataframe thead th {\n",
              "        text-align: right;\n",
              "    }\n",
              "</style>\n",
              "<table border=\"1\" class=\"dataframe\">\n",
              "  <thead>\n",
              "    <tr style=\"text-align: right;\">\n",
              "      <th></th>\n",
              "      <th>feature1</th>\n",
              "      <th>feature2</th>\n",
              "      <th>target</th>\n",
              "    </tr>\n",
              "  </thead>\n",
              "  <tbody>\n",
              "    <tr>\n",
              "      <th>0</th>\n",
              "      <td>0.780156</td>\n",
              "      <td>-1.045158</td>\n",
              "      <td>83.227784</td>\n",
              "    </tr>\n",
              "    <tr>\n",
              "      <th>1</th>\n",
              "      <td>0.630775</td>\n",
              "      <td>-0.237636</td>\n",
              "      <td>24.927339</td>\n",
              "    </tr>\n",
              "    <tr>\n",
              "      <th>2</th>\n",
              "      <td>-1.146909</td>\n",
              "      <td>1.241477</td>\n",
              "      <td>-118.593789</td>\n",
              "    </tr>\n",
              "    <tr>\n",
              "      <th>3</th>\n",
              "      <td>0.786793</td>\n",
              "      <td>-1.068460</td>\n",
              "      <td>61.510808</td>\n",
              "    </tr>\n",
              "    <tr>\n",
              "      <th>4</th>\n",
              "      <td>-1.171849</td>\n",
              "      <td>-0.008885</td>\n",
              "      <td>-80.413358</td>\n",
              "    </tr>\n",
              "  </tbody>\n",
              "</table>\n",
              "</div>\n",
              "      <button class=\"colab-df-convert\" onclick=\"convertToInteractive('df-f1f26cdf-4eef-49b1-9d60-b2d305623bcc')\"\n",
              "              title=\"Convert this dataframe to an interactive table.\"\n",
              "              style=\"display:none;\">\n",
              "        \n",
              "  <svg xmlns=\"http://www.w3.org/2000/svg\" height=\"24px\"viewBox=\"0 0 24 24\"\n",
              "       width=\"24px\">\n",
              "    <path d=\"M0 0h24v24H0V0z\" fill=\"none\"/>\n",
              "    <path d=\"M18.56 5.44l.94 2.06.94-2.06 2.06-.94-2.06-.94-.94-2.06-.94 2.06-2.06.94zm-11 1L8.5 8.5l.94-2.06 2.06-.94-2.06-.94L8.5 2.5l-.94 2.06-2.06.94zm10 10l.94 2.06.94-2.06 2.06-.94-2.06-.94-.94-2.06-.94 2.06-2.06.94z\"/><path d=\"M17.41 7.96l-1.37-1.37c-.4-.4-.92-.59-1.43-.59-.52 0-1.04.2-1.43.59L10.3 9.45l-7.72 7.72c-.78.78-.78 2.05 0 2.83L4 21.41c.39.39.9.59 1.41.59.51 0 1.02-.2 1.41-.59l7.78-7.78 2.81-2.81c.8-.78.8-2.07 0-2.86zM5.41 20L4 18.59l7.72-7.72 1.47 1.35L5.41 20z\"/>\n",
              "  </svg>\n",
              "      </button>\n",
              "      \n",
              "  <style>\n",
              "    .colab-df-container {\n",
              "      display:flex;\n",
              "      flex-wrap:wrap;\n",
              "      gap: 12px;\n",
              "    }\n",
              "\n",
              "    .colab-df-convert {\n",
              "      background-color: #E8F0FE;\n",
              "      border: none;\n",
              "      border-radius: 50%;\n",
              "      cursor: pointer;\n",
              "      display: none;\n",
              "      fill: #1967D2;\n",
              "      height: 32px;\n",
              "      padding: 0 0 0 0;\n",
              "      width: 32px;\n",
              "    }\n",
              "\n",
              "    .colab-df-convert:hover {\n",
              "      background-color: #E2EBFA;\n",
              "      box-shadow: 0px 1px 2px rgba(60, 64, 67, 0.3), 0px 1px 3px 1px rgba(60, 64, 67, 0.15);\n",
              "      fill: #174EA6;\n",
              "    }\n",
              "\n",
              "    [theme=dark] .colab-df-convert {\n",
              "      background-color: #3B4455;\n",
              "      fill: #D2E3FC;\n",
              "    }\n",
              "\n",
              "    [theme=dark] .colab-df-convert:hover {\n",
              "      background-color: #434B5C;\n",
              "      box-shadow: 0px 1px 3px 1px rgba(0, 0, 0, 0.15);\n",
              "      filter: drop-shadow(0px 1px 2px rgba(0, 0, 0, 0.3));\n",
              "      fill: #FFFFFF;\n",
              "    }\n",
              "  </style>\n",
              "\n",
              "      <script>\n",
              "        const buttonEl =\n",
              "          document.querySelector('#df-f1f26cdf-4eef-49b1-9d60-b2d305623bcc button.colab-df-convert');\n",
              "        buttonEl.style.display =\n",
              "          google.colab.kernel.accessAllowed ? 'block' : 'none';\n",
              "\n",
              "        async function convertToInteractive(key) {\n",
              "          const element = document.querySelector('#df-f1f26cdf-4eef-49b1-9d60-b2d305623bcc');\n",
              "          const dataTable =\n",
              "            await google.colab.kernel.invokeFunction('convertToInteractive',\n",
              "                                                     [key], {});\n",
              "          if (!dataTable) return;\n",
              "\n",
              "          const docLinkHtml = 'Like what you see? Visit the ' +\n",
              "            '<a target=\"_blank\" href=https://colab.research.google.com/notebooks/data_table.ipynb>data table notebook</a>'\n",
              "            + ' to learn more about interactive tables.';\n",
              "          element.innerHTML = '';\n",
              "          dataTable['output_type'] = 'display_data';\n",
              "          await google.colab.output.renderOutput(dataTable, element);\n",
              "          const docLink = document.createElement('div');\n",
              "          docLink.innerHTML = docLinkHtml;\n",
              "          element.appendChild(docLink);\n",
              "        }\n",
              "      </script>\n",
              "    </div>\n",
              "  </div>\n",
              "  "
            ]
          },
          "metadata": {},
          "execution_count": 31
        }
      ]
    },
    {
      "cell_type": "code",
      "metadata": {
        "id": "kvlFl8W1Bn5p",
        "colab": {
          "base_uri": "https://localhost:8080/",
          "height": 542
        },
        "outputId": "d7d731ee-af8b-4366-c146-b2f9102e771d"
      },
      "source": [
        "fig = px.scatter_3d(df, x='feature1', y='feature2', z='target')\n",
        "\n",
        "fig.show()"
      ],
      "execution_count": null,
      "outputs": [
        {
          "output_type": "display_data",
          "data": {
            "text/html": [
              "<html>\n",
              "<head><meta charset=\"utf-8\" /></head>\n",
              "<body>\n",
              "    <div>            <script src=\"https://cdnjs.cloudflare.com/ajax/libs/mathjax/2.7.5/MathJax.js?config=TeX-AMS-MML_SVG\"></script><script type=\"text/javascript\">if (window.MathJax) {MathJax.Hub.Config({SVG: {font: \"STIX-Web\"}});}</script>                <script type=\"text/javascript\">window.PlotlyConfig = {MathJaxConfig: 'local'};</script>\n",
              "        <script src=\"https://cdn.plot.ly/plotly-2.8.3.min.js\"></script>                <div id=\"ab049729-3a98-4fa4-8cfa-ec60dfc3aad2\" class=\"plotly-graph-div\" style=\"height:525px; width:100%;\"></div>            <script type=\"text/javascript\">                                    window.PLOTLYENV=window.PLOTLYENV || {};                                    if (document.getElementById(\"ab049729-3a98-4fa4-8cfa-ec60dfc3aad2\")) {                    Plotly.newPlot(                        \"ab049729-3a98-4fa4-8cfa-ec60dfc3aad2\",                        [{\"hovertemplate\":\"feature1=%{x}<br>feature2=%{y}<br>target=%{z}<extra></extra>\",\"legendgroup\":\"\",\"marker\":{\"color\":\"#636efa\",\"symbol\":\"circle\"},\"mode\":\"markers\",\"name\":\"\",\"scene\":\"scene\",\"showlegend\":false,\"x\":[0.7801560887898659,0.6307745934094697,-1.1469087485625207,0.7867931569568415,-1.1718493464530297,0.7669980098865959,-0.35196419959880776,2.0304546496983096,-0.4657609713036097,-1.6774209628699384,2.780721205710383,-0.15241637582893497,0.24513407805865423,0.5141708279530904,0.014624775334174214,-0.7279845850865049,1.422167154507233,0.0768098489823571,0.4820569082744573,-1.8608986199383206,-0.7832530942195364,-0.2052745522399643,0.026110026045461098,1.6680058417547066,1.426691563902952,-0.28817385407049234,-0.3076320337569251,0.5964970382834444,-1.4551327354181827,0.08037135372375274,0.029191255772663974,-0.26870645591742465,1.3002426391058064,-0.7483285803257947,-0.7355108356767301,1.7671225107282518,-1.3424351861421464,1.5812489019281764,0.0022795046845649346,0.18846188074927825,-1.170646591830296,0.41905073378010943,-0.644204382597201,1.2877030643602103,-0.2264081357879685,-0.36428017778386473,-0.016003558705485765,-0.754732562647812,0.31710118145617655,1.870840702112376,-1.5886487559817992,0.43665168343025895,0.7565587836262507,-1.406228753469894,1.3219135238711264,0.6441972654307779,0.8684758260106757,-0.22953743709995394,-0.6828726243489301,-0.19957430998095643,-0.8651336999988967,0.6936798340909319,0.6245395759393442,-0.8458824656960158,-0.5493169564053568,0.49574211517454314,0.33986258801229124,0.2652893604600069,-1.1753817320462459,-1.663635686783904,-0.6706118538369769,-1.222008048143878,-0.7449187112332397,1.7459287135108683,-1.5347567424559305,-0.9795347175796976,1.3919962179976328,-0.9787478948596137,-0.5874089282370233,0.6823426493794784,-0.010771396530569934,-0.7228373332218545,-2.2687261872611324,0.9838109576762636,-0.334335505088557,0.4811177407924681,-0.4686028314358548,0.6780562405062078,-0.3170586669549208,0.6046473052146225,0.8806530236016449,-1.6041680201606716,3.083777632910084,-1.9638964689896419,-0.3462074330028406,0.6254561550616566,-0.06460351698096316,0.2811540466151453,-0.6417201325849327,1.7313016798833993],\"y\":[-1.0451580282444943,-0.23763570458367464,1.2414766752893391,-1.0684600789144905,-0.008885020891154236,0.5713022129829205,1.1803027109815556,-0.3200752920898573,0.20762589788901398,-0.44136214392947626,-1.5639515306627578,-0.20850505731507185,0.03586593271147778,-0.6312937234535404,2.7801009754244617,0.5216618855355558,-0.8897850506212998,-1.6148471044009847,1.424099917324027,1.333928311817578,0.5572598116294418,-0.4858022509178748,-0.27588751792560057,-0.9905319376305699,1.5161555351374911,-0.6850119026794887,0.05962473496251756,0.37425464461727304,-0.18973034059382332,-0.2028639804658111,0.34465365138957965,1.101040604881258,0.33959267413212313,-0.20778499148740648,0.030868834225171678,-3.0265461325611747,1.0842274439808257,0.4254485517776303,-0.5936281605270539,0.5273017293494847,-0.22369646819066394,-1.0777908533787157,0.721799779820633,0.28735172223367167,1.4714204270611353,-1.612533969615482,-0.6188202485251778,0.36762836502992163,-1.22189331093722,0.15798513728307037,-2.515630972772917,2.2188610052564455,0.11876142284223747,1.3343185198003946,1.8522123963846489,-0.5794889294993648,2.4962366700167373,2.017978813370909,0.17473904056300144,0.8934654325394766,1.7588657429290506,0.9851763660998729,0.2981654132899525,0.2715992043316034,0.1374391056619493,-0.04055978703591721,-1.427897589139203,1.762305835414675,1.024233644005119,0.45770192561471257,-0.9829174761619144,2.5247228249494684,1.5323579129308162,-1.4128066055761932,1.715934389986058,-0.09052794388474338,0.25310834117570624,-0.4181366580462596,-1.4618851855092108,-0.6107519441474706,-1.865074369516049,0.3083748548500817,1.5396060637023625,0.3116477504480943,0.07982942444821997,1.5163947788105123,-0.8502371923310112,1.5987985656344434,-0.8747948457518092,0.5682404058853606,-1.096501980506209,-0.021645537433867105,-0.798193260420048,0.7905287758402685,-1.407727927224352,-0.22961163363509238,-0.4669995316430757,-1.8891847567774203,2.0455392049375303,-0.5370345857881477],\"z\":[83.22778416239876,24.927339440602967,-118.59378938517537,61.5108080874301,-80.41335775577966,13.35710476923883,33.870306015112334,162.4854788650888,3.7256151561152215,-139.73423540810253,102.74243793830374,-29.307455092305254,40.91100359816229,76.32887470859592,31.33456654398988,-40.20798928966933,62.66072736348003,-34.45258072829738,90.5493165839724,-77.19724519922052,-22.24680379923963,-51.163002834848655,34.4396655466829,137.7486778093769,108.5741580628227,-43.56593245870271,50.41061132238328,-26.956988934754825,-67.79072509110946,9.338728382817767,-42.56499438461759,-27.57361883065634,43.8255112946499,-103.18927306538355,73.03006878135233,4.633283007396532,23.978041230310595,142.20932433167772,-81.90282931339229,32.25040640398907,-99.58620609663689,-51.855397739170314,-2.197128276060539,71.5071524242841,40.0865497435845,15.86874089561158,32.39895770504377,70.25349840478555,46.55414679505009,72.6796848927032,-106.32622447819233,8.656547484999521,62.60289178695861,16.53715408102036,93.47843008540238,-21.835538004421224,106.24394742198264,6.5985947085476475,-54.47986526106784,4.889682172244925,4.461477996107133,185.05355432344237,44.88064992217368,-13.330782321675748,18.06195986198194,-102.26813240718607,14.832962126419492,106.20169660384416,-80.51705367588312,20.41276484596915,5.228930489929411,-2.4759278071590742,-4.679516386950288,65.24763664675551,40.616674419857794,-64.6949264682845,-9.866590396437985,31.224013616039784,-17.283541748890357,169.31531384183802,50.99454228525851,-129.57957042849208,-58.11429335609215,2.7033585941257314,-147.02946411800522,145.10521050878265,-33.38769484619214,88.46771283944494,-48.49791384482751,98.12910935556496,-27.90198548956249,-28.188459840328804,167.9015420855218,-96.26202283272293,-35.65019914230507,-35.942916099717756,-83.10888558808954,-34.55683289678707,14.047015541258986,131.68502692964344],\"type\":\"scatter3d\"}],                        {\"template\":{\"data\":{\"bar\":[{\"error_x\":{\"color\":\"#2a3f5f\"},\"error_y\":{\"color\":\"#2a3f5f\"},\"marker\":{\"line\":{\"color\":\"#E5ECF6\",\"width\":0.5},\"pattern\":{\"fillmode\":\"overlay\",\"size\":10,\"solidity\":0.2}},\"type\":\"bar\"}],\"barpolar\":[{\"marker\":{\"line\":{\"color\":\"#E5ECF6\",\"width\":0.5},\"pattern\":{\"fillmode\":\"overlay\",\"size\":10,\"solidity\":0.2}},\"type\":\"barpolar\"}],\"carpet\":[{\"aaxis\":{\"endlinecolor\":\"#2a3f5f\",\"gridcolor\":\"white\",\"linecolor\":\"white\",\"minorgridcolor\":\"white\",\"startlinecolor\":\"#2a3f5f\"},\"baxis\":{\"endlinecolor\":\"#2a3f5f\",\"gridcolor\":\"white\",\"linecolor\":\"white\",\"minorgridcolor\":\"white\",\"startlinecolor\":\"#2a3f5f\"},\"type\":\"carpet\"}],\"choropleth\":[{\"colorbar\":{\"outlinewidth\":0,\"ticks\":\"\"},\"type\":\"choropleth\"}],\"contour\":[{\"colorbar\":{\"outlinewidth\":0,\"ticks\":\"\"},\"colorscale\":[[0.0,\"#0d0887\"],[0.1111111111111111,\"#46039f\"],[0.2222222222222222,\"#7201a8\"],[0.3333333333333333,\"#9c179e\"],[0.4444444444444444,\"#bd3786\"],[0.5555555555555556,\"#d8576b\"],[0.6666666666666666,\"#ed7953\"],[0.7777777777777778,\"#fb9f3a\"],[0.8888888888888888,\"#fdca26\"],[1.0,\"#f0f921\"]],\"type\":\"contour\"}],\"contourcarpet\":[{\"colorbar\":{\"outlinewidth\":0,\"ticks\":\"\"},\"type\":\"contourcarpet\"}],\"heatmap\":[{\"colorbar\":{\"outlinewidth\":0,\"ticks\":\"\"},\"colorscale\":[[0.0,\"#0d0887\"],[0.1111111111111111,\"#46039f\"],[0.2222222222222222,\"#7201a8\"],[0.3333333333333333,\"#9c179e\"],[0.4444444444444444,\"#bd3786\"],[0.5555555555555556,\"#d8576b\"],[0.6666666666666666,\"#ed7953\"],[0.7777777777777778,\"#fb9f3a\"],[0.8888888888888888,\"#fdca26\"],[1.0,\"#f0f921\"]],\"type\":\"heatmap\"}],\"heatmapgl\":[{\"colorbar\":{\"outlinewidth\":0,\"ticks\":\"\"},\"colorscale\":[[0.0,\"#0d0887\"],[0.1111111111111111,\"#46039f\"],[0.2222222222222222,\"#7201a8\"],[0.3333333333333333,\"#9c179e\"],[0.4444444444444444,\"#bd3786\"],[0.5555555555555556,\"#d8576b\"],[0.6666666666666666,\"#ed7953\"],[0.7777777777777778,\"#fb9f3a\"],[0.8888888888888888,\"#fdca26\"],[1.0,\"#f0f921\"]],\"type\":\"heatmapgl\"}],\"histogram\":[{\"marker\":{\"pattern\":{\"fillmode\":\"overlay\",\"size\":10,\"solidity\":0.2}},\"type\":\"histogram\"}],\"histogram2d\":[{\"colorbar\":{\"outlinewidth\":0,\"ticks\":\"\"},\"colorscale\":[[0.0,\"#0d0887\"],[0.1111111111111111,\"#46039f\"],[0.2222222222222222,\"#7201a8\"],[0.3333333333333333,\"#9c179e\"],[0.4444444444444444,\"#bd3786\"],[0.5555555555555556,\"#d8576b\"],[0.6666666666666666,\"#ed7953\"],[0.7777777777777778,\"#fb9f3a\"],[0.8888888888888888,\"#fdca26\"],[1.0,\"#f0f921\"]],\"type\":\"histogram2d\"}],\"histogram2dcontour\":[{\"colorbar\":{\"outlinewidth\":0,\"ticks\":\"\"},\"colorscale\":[[0.0,\"#0d0887\"],[0.1111111111111111,\"#46039f\"],[0.2222222222222222,\"#7201a8\"],[0.3333333333333333,\"#9c179e\"],[0.4444444444444444,\"#bd3786\"],[0.5555555555555556,\"#d8576b\"],[0.6666666666666666,\"#ed7953\"],[0.7777777777777778,\"#fb9f3a\"],[0.8888888888888888,\"#fdca26\"],[1.0,\"#f0f921\"]],\"type\":\"histogram2dcontour\"}],\"mesh3d\":[{\"colorbar\":{\"outlinewidth\":0,\"ticks\":\"\"},\"type\":\"mesh3d\"}],\"parcoords\":[{\"line\":{\"colorbar\":{\"outlinewidth\":0,\"ticks\":\"\"}},\"type\":\"parcoords\"}],\"pie\":[{\"automargin\":true,\"type\":\"pie\"}],\"scatter\":[{\"marker\":{\"colorbar\":{\"outlinewidth\":0,\"ticks\":\"\"}},\"type\":\"scatter\"}],\"scatter3d\":[{\"line\":{\"colorbar\":{\"outlinewidth\":0,\"ticks\":\"\"}},\"marker\":{\"colorbar\":{\"outlinewidth\":0,\"ticks\":\"\"}},\"type\":\"scatter3d\"}],\"scattercarpet\":[{\"marker\":{\"colorbar\":{\"outlinewidth\":0,\"ticks\":\"\"}},\"type\":\"scattercarpet\"}],\"scattergeo\":[{\"marker\":{\"colorbar\":{\"outlinewidth\":0,\"ticks\":\"\"}},\"type\":\"scattergeo\"}],\"scattergl\":[{\"marker\":{\"colorbar\":{\"outlinewidth\":0,\"ticks\":\"\"}},\"type\":\"scattergl\"}],\"scattermapbox\":[{\"marker\":{\"colorbar\":{\"outlinewidth\":0,\"ticks\":\"\"}},\"type\":\"scattermapbox\"}],\"scatterpolar\":[{\"marker\":{\"colorbar\":{\"outlinewidth\":0,\"ticks\":\"\"}},\"type\":\"scatterpolar\"}],\"scatterpolargl\":[{\"marker\":{\"colorbar\":{\"outlinewidth\":0,\"ticks\":\"\"}},\"type\":\"scatterpolargl\"}],\"scatterternary\":[{\"marker\":{\"colorbar\":{\"outlinewidth\":0,\"ticks\":\"\"}},\"type\":\"scatterternary\"}],\"surface\":[{\"colorbar\":{\"outlinewidth\":0,\"ticks\":\"\"},\"colorscale\":[[0.0,\"#0d0887\"],[0.1111111111111111,\"#46039f\"],[0.2222222222222222,\"#7201a8\"],[0.3333333333333333,\"#9c179e\"],[0.4444444444444444,\"#bd3786\"],[0.5555555555555556,\"#d8576b\"],[0.6666666666666666,\"#ed7953\"],[0.7777777777777778,\"#fb9f3a\"],[0.8888888888888888,\"#fdca26\"],[1.0,\"#f0f921\"]],\"type\":\"surface\"}],\"table\":[{\"cells\":{\"fill\":{\"color\":\"#EBF0F8\"},\"line\":{\"color\":\"white\"}},\"header\":{\"fill\":{\"color\":\"#C8D4E3\"},\"line\":{\"color\":\"white\"}},\"type\":\"table\"}]},\"layout\":{\"annotationdefaults\":{\"arrowcolor\":\"#2a3f5f\",\"arrowhead\":0,\"arrowwidth\":1},\"autotypenumbers\":\"strict\",\"coloraxis\":{\"colorbar\":{\"outlinewidth\":0,\"ticks\":\"\"}},\"colorscale\":{\"diverging\":[[0,\"#8e0152\"],[0.1,\"#c51b7d\"],[0.2,\"#de77ae\"],[0.3,\"#f1b6da\"],[0.4,\"#fde0ef\"],[0.5,\"#f7f7f7\"],[0.6,\"#e6f5d0\"],[0.7,\"#b8e186\"],[0.8,\"#7fbc41\"],[0.9,\"#4d9221\"],[1,\"#276419\"]],\"sequential\":[[0.0,\"#0d0887\"],[0.1111111111111111,\"#46039f\"],[0.2222222222222222,\"#7201a8\"],[0.3333333333333333,\"#9c179e\"],[0.4444444444444444,\"#bd3786\"],[0.5555555555555556,\"#d8576b\"],[0.6666666666666666,\"#ed7953\"],[0.7777777777777778,\"#fb9f3a\"],[0.8888888888888888,\"#fdca26\"],[1.0,\"#f0f921\"]],\"sequentialminus\":[[0.0,\"#0d0887\"],[0.1111111111111111,\"#46039f\"],[0.2222222222222222,\"#7201a8\"],[0.3333333333333333,\"#9c179e\"],[0.4444444444444444,\"#bd3786\"],[0.5555555555555556,\"#d8576b\"],[0.6666666666666666,\"#ed7953\"],[0.7777777777777778,\"#fb9f3a\"],[0.8888888888888888,\"#fdca26\"],[1.0,\"#f0f921\"]]},\"colorway\":[\"#636efa\",\"#EF553B\",\"#00cc96\",\"#ab63fa\",\"#FFA15A\",\"#19d3f3\",\"#FF6692\",\"#B6E880\",\"#FF97FF\",\"#FECB52\"],\"font\":{\"color\":\"#2a3f5f\"},\"geo\":{\"bgcolor\":\"white\",\"lakecolor\":\"white\",\"landcolor\":\"#E5ECF6\",\"showlakes\":true,\"showland\":true,\"subunitcolor\":\"white\"},\"hoverlabel\":{\"align\":\"left\"},\"hovermode\":\"closest\",\"mapbox\":{\"style\":\"light\"},\"paper_bgcolor\":\"white\",\"plot_bgcolor\":\"#E5ECF6\",\"polar\":{\"angularaxis\":{\"gridcolor\":\"white\",\"linecolor\":\"white\",\"ticks\":\"\"},\"bgcolor\":\"#E5ECF6\",\"radialaxis\":{\"gridcolor\":\"white\",\"linecolor\":\"white\",\"ticks\":\"\"}},\"scene\":{\"xaxis\":{\"backgroundcolor\":\"#E5ECF6\",\"gridcolor\":\"white\",\"gridwidth\":2,\"linecolor\":\"white\",\"showbackground\":true,\"ticks\":\"\",\"zerolinecolor\":\"white\"},\"yaxis\":{\"backgroundcolor\":\"#E5ECF6\",\"gridcolor\":\"white\",\"gridwidth\":2,\"linecolor\":\"white\",\"showbackground\":true,\"ticks\":\"\",\"zerolinecolor\":\"white\"},\"zaxis\":{\"backgroundcolor\":\"#E5ECF6\",\"gridcolor\":\"white\",\"gridwidth\":2,\"linecolor\":\"white\",\"showbackground\":true,\"ticks\":\"\",\"zerolinecolor\":\"white\"}},\"shapedefaults\":{\"line\":{\"color\":\"#2a3f5f\"}},\"ternary\":{\"aaxis\":{\"gridcolor\":\"white\",\"linecolor\":\"white\",\"ticks\":\"\"},\"baxis\":{\"gridcolor\":\"white\",\"linecolor\":\"white\",\"ticks\":\"\"},\"bgcolor\":\"#E5ECF6\",\"caxis\":{\"gridcolor\":\"white\",\"linecolor\":\"white\",\"ticks\":\"\"}},\"title\":{\"x\":0.05},\"xaxis\":{\"automargin\":true,\"gridcolor\":\"white\",\"linecolor\":\"white\",\"ticks\":\"\",\"title\":{\"standoff\":15},\"zerolinecolor\":\"white\",\"zerolinewidth\":2},\"yaxis\":{\"automargin\":true,\"gridcolor\":\"white\",\"linecolor\":\"white\",\"ticks\":\"\",\"title\":{\"standoff\":15},\"zerolinecolor\":\"white\",\"zerolinewidth\":2}}},\"scene\":{\"domain\":{\"x\":[0.0,1.0],\"y\":[0.0,1.0]},\"xaxis\":{\"title\":{\"text\":\"feature1\"}},\"yaxis\":{\"title\":{\"text\":\"feature2\"}},\"zaxis\":{\"title\":{\"text\":\"target\"}}},\"legend\":{\"tracegroupgap\":0},\"margin\":{\"t\":60}},                        {\"responsive\": true}                    ).then(function(){\n",
              "                            \n",
              "var gd = document.getElementById('ab049729-3a98-4fa4-8cfa-ec60dfc3aad2');\n",
              "var x = new MutationObserver(function (mutations, observer) {{\n",
              "        var display = window.getComputedStyle(gd).display;\n",
              "        if (!display || display === 'none') {{\n",
              "            console.log([gd, 'removed!']);\n",
              "            Plotly.purge(gd);\n",
              "            observer.disconnect();\n",
              "        }}\n",
              "}});\n",
              "\n",
              "// Listen for the removal of the full notebook cells\n",
              "var notebookContainer = gd.closest('#notebook-container');\n",
              "if (notebookContainer) {{\n",
              "    x.observe(notebookContainer, {childList: true});\n",
              "}}\n",
              "\n",
              "// Listen for the clearing of the current output cell\n",
              "var outputEl = gd.closest('.output');\n",
              "if (outputEl) {{\n",
              "    x.observe(outputEl, {childList: true});\n",
              "}}\n",
              "\n",
              "                        })                };                            </script>        </div>\n",
              "</body>\n",
              "</html>"
            ]
          },
          "metadata": {}
        }
      ]
    },
    {
      "cell_type": "code",
      "source": [],
      "metadata": {
        "id": "4O6scPR2NM1m"
      },
      "execution_count": null,
      "outputs": []
    },
    {
      "cell_type": "code",
      "metadata": {
        "id": "JuxDxS4JB80Z"
      },
      "source": [
        "from sklearn.model_selection import train_test_split\n",
        "X_train,X_test,y_train,y_test = train_test_split(X,y,test_size=0.2,random_state=3)"
      ],
      "execution_count": null,
      "outputs": []
    },
    {
      "cell_type": "code",
      "metadata": {
        "id": "eG18yML6nl0h"
      },
      "source": [
        "from sklearn.linear_model import LinearRegression"
      ],
      "execution_count": null,
      "outputs": []
    },
    {
      "cell_type": "code",
      "metadata": {
        "id": "W_OGmF3npCKC"
      },
      "source": [
        "lr = LinearRegression()"
      ],
      "execution_count": null,
      "outputs": []
    },
    {
      "cell_type": "code",
      "metadata": {
        "colab": {
          "base_uri": "https://localhost:8080/"
        },
        "id": "g6hR7U0epEBR",
        "outputId": "408e2686-e733-4aad-b1e7-58be34daf389"
      },
      "source": [
        "lr.fit(X_train,y_train)"
      ],
      "execution_count": null,
      "outputs": [
        {
          "output_type": "execute_result",
          "data": {
            "text/plain": [
              "LinearRegression()"
            ]
          },
          "metadata": {},
          "execution_count": 36
        }
      ]
    },
    {
      "cell_type": "code",
      "metadata": {
        "id": "eKExpiVMpF9F"
      },
      "source": [
        "y_pred = lr.predict(X_test)"
      ],
      "execution_count": null,
      "outputs": []
    },
    {
      "cell_type": "code",
      "metadata": {
        "colab": {
          "base_uri": "https://localhost:8080/"
        },
        "id": "90AXRhgzrSW_",
        "outputId": "a5cc6395-3400-4efb-81a9-d0d235226042"
      },
      "source": [
        "print(\"MAE\",mean_absolute_error(y_test,y_pred))\n",
        "print(\"MSE\",mean_squared_error(y_test,y_pred))\n",
        "print(\"R2 score\",r2_score(y_test,y_pred))"
      ],
      "execution_count": null,
      "outputs": [
        {
          "output_type": "stream",
          "name": "stdout",
          "text": [
            "MAE 38.30976656702339\n",
            "MSE 2234.6077711061166\n",
            "R2 score 0.47842747659870055\n"
          ]
        }
      ]
    },
    {
      "cell_type": "code",
      "metadata": {
        "id": "GQQrYU8r3fpd"
      },
      "source": [
        "x = np.linspace(-5, 5, 10)\n",
        "y = np.linspace(-5, 5, 10)\n",
        "xGrid, yGrid = np.meshgrid(y, x)\n",
        "final = np.vstack((xGrid.ravel().reshape(1,100),yGrid.ravel().reshape(1,100))).T\n",
        "z_final = lr.predict(final).reshape(10,10)\n",
        "\n",
        "z = z_final\n",
        "\n"
      ],
      "execution_count": null,
      "outputs": []
    },
    {
      "cell_type": "code",
      "metadata": {
        "colab": {
          "base_uri": "https://localhost:8080/"
        },
        "id": "NpAvnU-t3yV0",
        "outputId": "d2dbaa7d-acff-4500-811c-f2ec43127fb7"
      },
      "source": [
        "fig = px.scatter_3d(df, x='feature1', y='feature2', z='target')\n",
        "\n",
        "fig.add_trace(go.Surface(x = x, y = y, z =z ))\n",
        "\n",
        "fig.show()"
      ],
      "execution_count": null,
      "outputs": [
        {
          "output_type": "display_data",
          "data": {
            "text/html": [
              "<html>\n",
              "<head><meta charset=\"utf-8\" /></head>\n",
              "<body>\n",
              "    <div>            <script src=\"https://cdnjs.cloudflare.com/ajax/libs/mathjax/2.7.5/MathJax.js?config=TeX-AMS-MML_SVG\"></script><script type=\"text/javascript\">if (window.MathJax) {MathJax.Hub.Config({SVG: {font: \"STIX-Web\"}});}</script>                <script type=\"text/javascript\">window.PlotlyConfig = {MathJaxConfig: 'local'};</script>\n",
              "        <script src=\"https://cdn.plot.ly/plotly-2.8.3.min.js\"></script>                <div id=\"437b50b4-97e4-4664-95be-d957ee60e25f\" class=\"plotly-graph-div\" style=\"height:525px; width:100%;\"></div>            <script type=\"text/javascript\">                                    window.PLOTLYENV=window.PLOTLYENV || {};                                    if (document.getElementById(\"437b50b4-97e4-4664-95be-d957ee60e25f\")) {                    Plotly.newPlot(                        \"437b50b4-97e4-4664-95be-d957ee60e25f\",                        [{\"hovertemplate\":\"feature1=%{x}<br>feature2=%{y}<br>target=%{z}<extra></extra>\",\"legendgroup\":\"\",\"marker\":{\"color\":\"#636efa\",\"symbol\":\"circle\"},\"mode\":\"markers\",\"name\":\"\",\"scene\":\"scene\",\"showlegend\":false,\"x\":[0.7801560887898659,0.6307745934094697,-1.1469087485625207,0.7867931569568415,-1.1718493464530297,0.7669980098865959,-0.35196419959880776,2.0304546496983096,-0.4657609713036097,-1.6774209628699384,2.780721205710383,-0.15241637582893497,0.24513407805865423,0.5141708279530904,0.014624775334174214,-0.7279845850865049,1.422167154507233,0.0768098489823571,0.4820569082744573,-1.8608986199383206,-0.7832530942195364,-0.2052745522399643,0.026110026045461098,1.6680058417547066,1.426691563902952,-0.28817385407049234,-0.3076320337569251,0.5964970382834444,-1.4551327354181827,0.08037135372375274,0.029191255772663974,-0.26870645591742465,1.3002426391058064,-0.7483285803257947,-0.7355108356767301,1.7671225107282518,-1.3424351861421464,1.5812489019281764,0.0022795046845649346,0.18846188074927825,-1.170646591830296,0.41905073378010943,-0.644204382597201,1.2877030643602103,-0.2264081357879685,-0.36428017778386473,-0.016003558705485765,-0.754732562647812,0.31710118145617655,1.870840702112376,-1.5886487559817992,0.43665168343025895,0.7565587836262507,-1.406228753469894,1.3219135238711264,0.6441972654307779,0.8684758260106757,-0.22953743709995394,-0.6828726243489301,-0.19957430998095643,-0.8651336999988967,0.6936798340909319,0.6245395759393442,-0.8458824656960158,-0.5493169564053568,0.49574211517454314,0.33986258801229124,0.2652893604600069,-1.1753817320462459,-1.663635686783904,-0.6706118538369769,-1.222008048143878,-0.7449187112332397,1.7459287135108683,-1.5347567424559305,-0.9795347175796976,1.3919962179976328,-0.9787478948596137,-0.5874089282370233,0.6823426493794784,-0.010771396530569934,-0.7228373332218545,-2.2687261872611324,0.9838109576762636,-0.334335505088557,0.4811177407924681,-0.4686028314358548,0.6780562405062078,-0.3170586669549208,0.6046473052146225,0.8806530236016449,-1.6041680201606716,3.083777632910084,-1.9638964689896419,-0.3462074330028406,0.6254561550616566,-0.06460351698096316,0.2811540466151453,-0.6417201325849327,1.7313016798833993],\"y\":[-1.0451580282444943,-0.23763570458367464,1.2414766752893391,-1.0684600789144905,-0.008885020891154236,0.5713022129829205,1.1803027109815556,-0.3200752920898573,0.20762589788901398,-0.44136214392947626,-1.5639515306627578,-0.20850505731507185,0.03586593271147778,-0.6312937234535404,2.7801009754244617,0.5216618855355558,-0.8897850506212998,-1.6148471044009847,1.424099917324027,1.333928311817578,0.5572598116294418,-0.4858022509178748,-0.27588751792560057,-0.9905319376305699,1.5161555351374911,-0.6850119026794887,0.05962473496251756,0.37425464461727304,-0.18973034059382332,-0.2028639804658111,0.34465365138957965,1.101040604881258,0.33959267413212313,-0.20778499148740648,0.030868834225171678,-3.0265461325611747,1.0842274439808257,0.4254485517776303,-0.5936281605270539,0.5273017293494847,-0.22369646819066394,-1.0777908533787157,0.721799779820633,0.28735172223367167,1.4714204270611353,-1.612533969615482,-0.6188202485251778,0.36762836502992163,-1.22189331093722,0.15798513728307037,-2.515630972772917,2.2188610052564455,0.11876142284223747,1.3343185198003946,1.8522123963846489,-0.5794889294993648,2.4962366700167373,2.017978813370909,0.17473904056300144,0.8934654325394766,1.7588657429290506,0.9851763660998729,0.2981654132899525,0.2715992043316034,0.1374391056619493,-0.04055978703591721,-1.427897589139203,1.762305835414675,1.024233644005119,0.45770192561471257,-0.9829174761619144,2.5247228249494684,1.5323579129308162,-1.4128066055761932,1.715934389986058,-0.09052794388474338,0.25310834117570624,-0.4181366580462596,-1.4618851855092108,-0.6107519441474706,-1.865074369516049,0.3083748548500817,1.5396060637023625,0.3116477504480943,0.07982942444821997,1.5163947788105123,-0.8502371923310112,1.5987985656344434,-0.8747948457518092,0.5682404058853606,-1.096501980506209,-0.021645537433867105,-0.798193260420048,0.7905287758402685,-1.407727927224352,-0.22961163363509238,-0.4669995316430757,-1.8891847567774203,2.0455392049375303,-0.5370345857881477],\"z\":[83.22778416239876,24.927339440602967,-118.59378938517537,61.5108080874301,-80.41335775577966,13.35710476923883,33.870306015112334,162.4854788650888,3.7256151561152215,-139.73423540810253,102.74243793830374,-29.307455092305254,40.91100359816229,76.32887470859592,31.33456654398988,-40.20798928966933,62.66072736348003,-34.45258072829738,90.5493165839724,-77.19724519922052,-22.24680379923963,-51.163002834848655,34.4396655466829,137.7486778093769,108.5741580628227,-43.56593245870271,50.41061132238328,-26.956988934754825,-67.79072509110946,9.338728382817767,-42.56499438461759,-27.57361883065634,43.8255112946499,-103.18927306538355,73.03006878135233,4.633283007396532,23.978041230310595,142.20932433167772,-81.90282931339229,32.25040640398907,-99.58620609663689,-51.855397739170314,-2.197128276060539,71.5071524242841,40.0865497435845,15.86874089561158,32.39895770504377,70.25349840478555,46.55414679505009,72.6796848927032,-106.32622447819233,8.656547484999521,62.60289178695861,16.53715408102036,93.47843008540238,-21.835538004421224,106.24394742198264,6.5985947085476475,-54.47986526106784,4.889682172244925,4.461477996107133,185.05355432344237,44.88064992217368,-13.330782321675748,18.06195986198194,-102.26813240718607,14.832962126419492,106.20169660384416,-80.51705367588312,20.41276484596915,5.228930489929411,-2.4759278071590742,-4.679516386950288,65.24763664675551,40.616674419857794,-64.6949264682845,-9.866590396437985,31.224013616039784,-17.283541748890357,169.31531384183802,50.99454228525851,-129.57957042849208,-58.11429335609215,2.7033585941257314,-147.02946411800522,145.10521050878265,-33.38769484619214,88.46771283944494,-48.49791384482751,98.12910935556496,-27.90198548956249,-28.188459840328804,167.9015420855218,-96.26202283272293,-35.65019914230507,-35.942916099717756,-83.10888558808954,-34.55683289678707,14.047015541258986,131.68502692964344],\"type\":\"scatter3d\"},{\"x\":[-5.0,-3.888888888888889,-2.7777777777777777,-1.6666666666666665,-0.5555555555555554,0.5555555555555554,1.666666666666667,2.7777777777777786,3.8888888888888893,5.0],\"y\":[-5.0,-3.888888888888889,-2.7777777777777777,-1.6666666666666665,-0.5555555555555554,0.5555555555555554,1.666666666666667,2.7777777777777786,3.8888888888888893,5.0],\"z\":[[-323.0792352039958,-269.0414211188684,-215.00360703374102,-160.96579294861365,-106.92797886348625,-52.89016477835888,1.1476493067685247,55.18546339189594,109.2232774770233,163.26109156215065],[-303.7242861885174,-249.68647210339006,-195.64865801826264,-141.61084393313527,-87.57302984800786,-33.5352157628805,20.502598322246907,74.54041240737432,128.57822649250167,182.61604057762904],[-284.369337173039,-230.33152308791165,-176.29370900278425,-122.25589491765687,-68.21808083252948,-14.180266747402126,39.85754733772528,93.8953614228527,147.93317550798005,201.97098959310742],[-265.01438815756063,-210.9765740724333,-156.93875998730587,-102.90094590217849,-48.86313181705111,5.17468226807625,59.21249635320366,113.25031043833107,167.28812452345844,221.3259386085858],[-245.6594391420823,-191.6216250569549,-137.58381097182752,-83.54599688670011,-29.50818280157274,24.529631283554625,78.56744536868204,132.60525945380942,186.6430735389368,240.68088762406416],[-226.30449012660392,-172.26667604147653,-118.22886195634912,-64.19104787122176,-10.153233786094372,43.88458029903299,97.9223943841604,151.9602084692878,205.99802255441517,260.03583663954254],[-206.94954111112554,-152.91172702599815,-98.87391294087074,-44.83609885574337,9.20171522938401,63.23952931451137,117.27734339963878,171.3151574847662,225.35297156989355,279.3907856550209],[-187.59459209564716,-133.55677801051976,-79.51896392539236,-25.481149840264987,28.556664244862393,82.59447832998977,136.63229241511715,190.67010650024457,244.70792058537194,298.7457346704993],[-168.2396430801688,-114.20182899504138,-60.16401490991399,-6.126200824786611,47.91161326034077,101.94942734546814,155.98724143059553,210.02505551572293,264.0628696008503,318.1006836859777],[-148.88469406469042,-94.84687997956301,-40.80906589443562,13.228748190691757,67.26656227581914,121.3043763609465,175.3421904460739,229.3800045312013,283.4178186163287,337.45563270145607]],\"type\":\"surface\"}],                        {\"template\":{\"data\":{\"bar\":[{\"error_x\":{\"color\":\"#2a3f5f\"},\"error_y\":{\"color\":\"#2a3f5f\"},\"marker\":{\"line\":{\"color\":\"#E5ECF6\",\"width\":0.5},\"pattern\":{\"fillmode\":\"overlay\",\"size\":10,\"solidity\":0.2}},\"type\":\"bar\"}],\"barpolar\":[{\"marker\":{\"line\":{\"color\":\"#E5ECF6\",\"width\":0.5},\"pattern\":{\"fillmode\":\"overlay\",\"size\":10,\"solidity\":0.2}},\"type\":\"barpolar\"}],\"carpet\":[{\"aaxis\":{\"endlinecolor\":\"#2a3f5f\",\"gridcolor\":\"white\",\"linecolor\":\"white\",\"minorgridcolor\":\"white\",\"startlinecolor\":\"#2a3f5f\"},\"baxis\":{\"endlinecolor\":\"#2a3f5f\",\"gridcolor\":\"white\",\"linecolor\":\"white\",\"minorgridcolor\":\"white\",\"startlinecolor\":\"#2a3f5f\"},\"type\":\"carpet\"}],\"choropleth\":[{\"colorbar\":{\"outlinewidth\":0,\"ticks\":\"\"},\"type\":\"choropleth\"}],\"contour\":[{\"colorbar\":{\"outlinewidth\":0,\"ticks\":\"\"},\"colorscale\":[[0.0,\"#0d0887\"],[0.1111111111111111,\"#46039f\"],[0.2222222222222222,\"#7201a8\"],[0.3333333333333333,\"#9c179e\"],[0.4444444444444444,\"#bd3786\"],[0.5555555555555556,\"#d8576b\"],[0.6666666666666666,\"#ed7953\"],[0.7777777777777778,\"#fb9f3a\"],[0.8888888888888888,\"#fdca26\"],[1.0,\"#f0f921\"]],\"type\":\"contour\"}],\"contourcarpet\":[{\"colorbar\":{\"outlinewidth\":0,\"ticks\":\"\"},\"type\":\"contourcarpet\"}],\"heatmap\":[{\"colorbar\":{\"outlinewidth\":0,\"ticks\":\"\"},\"colorscale\":[[0.0,\"#0d0887\"],[0.1111111111111111,\"#46039f\"],[0.2222222222222222,\"#7201a8\"],[0.3333333333333333,\"#9c179e\"],[0.4444444444444444,\"#bd3786\"],[0.5555555555555556,\"#d8576b\"],[0.6666666666666666,\"#ed7953\"],[0.7777777777777778,\"#fb9f3a\"],[0.8888888888888888,\"#fdca26\"],[1.0,\"#f0f921\"]],\"type\":\"heatmap\"}],\"heatmapgl\":[{\"colorbar\":{\"outlinewidth\":0,\"ticks\":\"\"},\"colorscale\":[[0.0,\"#0d0887\"],[0.1111111111111111,\"#46039f\"],[0.2222222222222222,\"#7201a8\"],[0.3333333333333333,\"#9c179e\"],[0.4444444444444444,\"#bd3786\"],[0.5555555555555556,\"#d8576b\"],[0.6666666666666666,\"#ed7953\"],[0.7777777777777778,\"#fb9f3a\"],[0.8888888888888888,\"#fdca26\"],[1.0,\"#f0f921\"]],\"type\":\"heatmapgl\"}],\"histogram\":[{\"marker\":{\"pattern\":{\"fillmode\":\"overlay\",\"size\":10,\"solidity\":0.2}},\"type\":\"histogram\"}],\"histogram2d\":[{\"colorbar\":{\"outlinewidth\":0,\"ticks\":\"\"},\"colorscale\":[[0.0,\"#0d0887\"],[0.1111111111111111,\"#46039f\"],[0.2222222222222222,\"#7201a8\"],[0.3333333333333333,\"#9c179e\"],[0.4444444444444444,\"#bd3786\"],[0.5555555555555556,\"#d8576b\"],[0.6666666666666666,\"#ed7953\"],[0.7777777777777778,\"#fb9f3a\"],[0.8888888888888888,\"#fdca26\"],[1.0,\"#f0f921\"]],\"type\":\"histogram2d\"}],\"histogram2dcontour\":[{\"colorbar\":{\"outlinewidth\":0,\"ticks\":\"\"},\"colorscale\":[[0.0,\"#0d0887\"],[0.1111111111111111,\"#46039f\"],[0.2222222222222222,\"#7201a8\"],[0.3333333333333333,\"#9c179e\"],[0.4444444444444444,\"#bd3786\"],[0.5555555555555556,\"#d8576b\"],[0.6666666666666666,\"#ed7953\"],[0.7777777777777778,\"#fb9f3a\"],[0.8888888888888888,\"#fdca26\"],[1.0,\"#f0f921\"]],\"type\":\"histogram2dcontour\"}],\"mesh3d\":[{\"colorbar\":{\"outlinewidth\":0,\"ticks\":\"\"},\"type\":\"mesh3d\"}],\"parcoords\":[{\"line\":{\"colorbar\":{\"outlinewidth\":0,\"ticks\":\"\"}},\"type\":\"parcoords\"}],\"pie\":[{\"automargin\":true,\"type\":\"pie\"}],\"scatter\":[{\"marker\":{\"colorbar\":{\"outlinewidth\":0,\"ticks\":\"\"}},\"type\":\"scatter\"}],\"scatter3d\":[{\"line\":{\"colorbar\":{\"outlinewidth\":0,\"ticks\":\"\"}},\"marker\":{\"colorbar\":{\"outlinewidth\":0,\"ticks\":\"\"}},\"type\":\"scatter3d\"}],\"scattercarpet\":[{\"marker\":{\"colorbar\":{\"outlinewidth\":0,\"ticks\":\"\"}},\"type\":\"scattercarpet\"}],\"scattergeo\":[{\"marker\":{\"colorbar\":{\"outlinewidth\":0,\"ticks\":\"\"}},\"type\":\"scattergeo\"}],\"scattergl\":[{\"marker\":{\"colorbar\":{\"outlinewidth\":0,\"ticks\":\"\"}},\"type\":\"scattergl\"}],\"scattermapbox\":[{\"marker\":{\"colorbar\":{\"outlinewidth\":0,\"ticks\":\"\"}},\"type\":\"scattermapbox\"}],\"scatterpolar\":[{\"marker\":{\"colorbar\":{\"outlinewidth\":0,\"ticks\":\"\"}},\"type\":\"scatterpolar\"}],\"scatterpolargl\":[{\"marker\":{\"colorbar\":{\"outlinewidth\":0,\"ticks\":\"\"}},\"type\":\"scatterpolargl\"}],\"scatterternary\":[{\"marker\":{\"colorbar\":{\"outlinewidth\":0,\"ticks\":\"\"}},\"type\":\"scatterternary\"}],\"surface\":[{\"colorbar\":{\"outlinewidth\":0,\"ticks\":\"\"},\"colorscale\":[[0.0,\"#0d0887\"],[0.1111111111111111,\"#46039f\"],[0.2222222222222222,\"#7201a8\"],[0.3333333333333333,\"#9c179e\"],[0.4444444444444444,\"#bd3786\"],[0.5555555555555556,\"#d8576b\"],[0.6666666666666666,\"#ed7953\"],[0.7777777777777778,\"#fb9f3a\"],[0.8888888888888888,\"#fdca26\"],[1.0,\"#f0f921\"]],\"type\":\"surface\"}],\"table\":[{\"cells\":{\"fill\":{\"color\":\"#EBF0F8\"},\"line\":{\"color\":\"white\"}},\"header\":{\"fill\":{\"color\":\"#C8D4E3\"},\"line\":{\"color\":\"white\"}},\"type\":\"table\"}]},\"layout\":{\"annotationdefaults\":{\"arrowcolor\":\"#2a3f5f\",\"arrowhead\":0,\"arrowwidth\":1},\"autotypenumbers\":\"strict\",\"coloraxis\":{\"colorbar\":{\"outlinewidth\":0,\"ticks\":\"\"}},\"colorscale\":{\"diverging\":[[0,\"#8e0152\"],[0.1,\"#c51b7d\"],[0.2,\"#de77ae\"],[0.3,\"#f1b6da\"],[0.4,\"#fde0ef\"],[0.5,\"#f7f7f7\"],[0.6,\"#e6f5d0\"],[0.7,\"#b8e186\"],[0.8,\"#7fbc41\"],[0.9,\"#4d9221\"],[1,\"#276419\"]],\"sequential\":[[0.0,\"#0d0887\"],[0.1111111111111111,\"#46039f\"],[0.2222222222222222,\"#7201a8\"],[0.3333333333333333,\"#9c179e\"],[0.4444444444444444,\"#bd3786\"],[0.5555555555555556,\"#d8576b\"],[0.6666666666666666,\"#ed7953\"],[0.7777777777777778,\"#fb9f3a\"],[0.8888888888888888,\"#fdca26\"],[1.0,\"#f0f921\"]],\"sequentialminus\":[[0.0,\"#0d0887\"],[0.1111111111111111,\"#46039f\"],[0.2222222222222222,\"#7201a8\"],[0.3333333333333333,\"#9c179e\"],[0.4444444444444444,\"#bd3786\"],[0.5555555555555556,\"#d8576b\"],[0.6666666666666666,\"#ed7953\"],[0.7777777777777778,\"#fb9f3a\"],[0.8888888888888888,\"#fdca26\"],[1.0,\"#f0f921\"]]},\"colorway\":[\"#636efa\",\"#EF553B\",\"#00cc96\",\"#ab63fa\",\"#FFA15A\",\"#19d3f3\",\"#FF6692\",\"#B6E880\",\"#FF97FF\",\"#FECB52\"],\"font\":{\"color\":\"#2a3f5f\"},\"geo\":{\"bgcolor\":\"white\",\"lakecolor\":\"white\",\"landcolor\":\"#E5ECF6\",\"showlakes\":true,\"showland\":true,\"subunitcolor\":\"white\"},\"hoverlabel\":{\"align\":\"left\"},\"hovermode\":\"closest\",\"mapbox\":{\"style\":\"light\"},\"paper_bgcolor\":\"white\",\"plot_bgcolor\":\"#E5ECF6\",\"polar\":{\"angularaxis\":{\"gridcolor\":\"white\",\"linecolor\":\"white\",\"ticks\":\"\"},\"bgcolor\":\"#E5ECF6\",\"radialaxis\":{\"gridcolor\":\"white\",\"linecolor\":\"white\",\"ticks\":\"\"}},\"scene\":{\"xaxis\":{\"backgroundcolor\":\"#E5ECF6\",\"gridcolor\":\"white\",\"gridwidth\":2,\"linecolor\":\"white\",\"showbackground\":true,\"ticks\":\"\",\"zerolinecolor\":\"white\"},\"yaxis\":{\"backgroundcolor\":\"#E5ECF6\",\"gridcolor\":\"white\",\"gridwidth\":2,\"linecolor\":\"white\",\"showbackground\":true,\"ticks\":\"\",\"zerolinecolor\":\"white\"},\"zaxis\":{\"backgroundcolor\":\"#E5ECF6\",\"gridcolor\":\"white\",\"gridwidth\":2,\"linecolor\":\"white\",\"showbackground\":true,\"ticks\":\"\",\"zerolinecolor\":\"white\"}},\"shapedefaults\":{\"line\":{\"color\":\"#2a3f5f\"}},\"ternary\":{\"aaxis\":{\"gridcolor\":\"white\",\"linecolor\":\"white\",\"ticks\":\"\"},\"baxis\":{\"gridcolor\":\"white\",\"linecolor\":\"white\",\"ticks\":\"\"},\"bgcolor\":\"#E5ECF6\",\"caxis\":{\"gridcolor\":\"white\",\"linecolor\":\"white\",\"ticks\":\"\"}},\"title\":{\"x\":0.05},\"xaxis\":{\"automargin\":true,\"gridcolor\":\"white\",\"linecolor\":\"white\",\"ticks\":\"\",\"title\":{\"standoff\":15},\"zerolinecolor\":\"white\",\"zerolinewidth\":2},\"yaxis\":{\"automargin\":true,\"gridcolor\":\"white\",\"linecolor\":\"white\",\"ticks\":\"\",\"title\":{\"standoff\":15},\"zerolinecolor\":\"white\",\"zerolinewidth\":2}}},\"scene\":{\"domain\":{\"x\":[0.0,1.0],\"y\":[0.0,1.0]},\"xaxis\":{\"title\":{\"text\":\"feature1\"}},\"yaxis\":{\"title\":{\"text\":\"feature2\"}},\"zaxis\":{\"title\":{\"text\":\"target\"}}},\"legend\":{\"tracegroupgap\":0},\"margin\":{\"t\":60}},                        {\"responsive\": true}                    ).then(function(){\n",
              "                            \n",
              "var gd = document.getElementById('437b50b4-97e4-4664-95be-d957ee60e25f');\n",
              "var x = new MutationObserver(function (mutations, observer) {{\n",
              "        var display = window.getComputedStyle(gd).display;\n",
              "        if (!display || display === 'none') {{\n",
              "            console.log([gd, 'removed!']);\n",
              "            Plotly.purge(gd);\n",
              "            observer.disconnect();\n",
              "        }}\n",
              "}});\n",
              "\n",
              "// Listen for the removal of the full notebook cells\n",
              "var notebookContainer = gd.closest('#notebook-container');\n",
              "if (notebookContainer) {{\n",
              "    x.observe(notebookContainer, {childList: true});\n",
              "}}\n",
              "\n",
              "// Listen for the clearing of the current output cell\n",
              "var outputEl = gd.closest('.output');\n",
              "if (outputEl) {{\n",
              "    x.observe(outputEl, {childList: true});\n",
              "}}\n",
              "\n",
              "                        })                };                            </script>        </div>\n",
              "</body>\n",
              "</html>"
            ]
          },
          "metadata": {}
        }
      ]
    },
    {
      "cell_type": "code",
      "metadata": {
        "colab": {
          "base_uri": "https://localhost:8080/"
        },
        "id": "YVdgVIn_5ElG",
        "outputId": "7b56e880-471c-4063-c2d3-70f11bafef49"
      },
      "source": [
        "lr.coef_"
      ],
      "execution_count": null,
      "outputs": [
        {
          "output_type": "execute_result",
          "data": {
            "text/plain": [
              "array([48.63403268, 17.41945411])"
            ]
          },
          "metadata": {},
          "execution_count": 41
        }
      ]
    },
    {
      "cell_type": "code",
      "metadata": {
        "colab": {
          "base_uri": "https://localhost:8080/"
        },
        "id": "kIVDDKIynz1b",
        "outputId": "62bb33a9-6073-43d8-bb52-31a780be58d2"
      },
      "source": [
        "lr.intercept_"
      ],
      "execution_count": null,
      "outputs": [
        {
          "output_type": "execute_result",
          "data": {
            "text/plain": [
              "7.188198748730127"
            ]
          },
          "metadata": {},
          "execution_count": 42
        }
      ]
    },
    {
      "cell_type": "code",
      "metadata": {
        "id": "m7ZOTCgen3l3"
      },
      "source": [],
      "execution_count": null,
      "outputs": []
    }
  ]
}